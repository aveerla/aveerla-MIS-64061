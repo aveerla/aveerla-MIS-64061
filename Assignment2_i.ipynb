{
  "cells": [
    {
      "cell_type": "markdown",
      "metadata": {
        "id": "UiBSimitFmKc"
      },
      "source": [
        "# Assignment 2 - Convolution networks to image data"
      ]
    },
    {
      "cell_type": "markdown",
      "metadata": {
        "id": "i6IJVUhgFmKh"
      },
      "source": [
        "## In this assignment, you will examine the relationship between training samples and the choice of training your model from scratch, versus using a pretrained convnet."
      ]
    },
    {
      "cell_type": "markdown",
      "metadata": {
        "id": "Pt91uAC1FmKi"
      },
      "source": [
        "### Downloading the data"
      ]
    },
    {
      "cell_type": "code",
      "execution_count": null,
      "metadata": {
        "colab": {
          "base_uri": "https://localhost:8080/",
          "height": 90,
          "resources": {
            "http://localhost:8080/nbextensions/google.colab/files.js": {
              "data": "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",
              "headers": [
                [
                  "content-type",
                  "application/javascript"
                ]
              ],
              "ok": true,
              "status": 200,
              "status_text": ""
            }
          }
        },
        "id": "DPLvSrXPFmKi",
        "outputId": "7cee3d3f-7a5b-46c7-89cc-c47a28e8f179"
      },
      "outputs": [
        {
          "output_type": "display_data",
          "data": {
            "text/plain": [
              "<IPython.core.display.HTML object>"
            ],
            "text/html": [
              "\n",
              "     <input type=\"file\" id=\"files-16fec14f-91d9-420b-8d03-0db8656dfd66\" name=\"files[]\" multiple disabled\n",
              "        style=\"border:none\" />\n",
              "     <output id=\"result-16fec14f-91d9-420b-8d03-0db8656dfd66\">\n",
              "      Upload widget is only available when the cell has been executed in the\n",
              "      current browser session. Please rerun this cell to enable.\n",
              "      </output>\n",
              "      <script src=\"/nbextensions/google.colab/files.js\"></script> "
            ]
          },
          "metadata": {}
        },
        {
          "output_type": "stream",
          "name": "stdout",
          "text": [
            "Saving kaggle.json to kaggle.json\n"
          ]
        },
        {
          "output_type": "execute_result",
          "data": {
            "text/plain": [
              "{'kaggle.json': b'{\"username\":\"veerlaanujeeth\",\"key\":\"b54076b250c6bca96c3ced8c09b035ce\"}'}"
            ]
          },
          "metadata": {},
          "execution_count": 1
        }
      ],
      "source": [
        "from google.colab import files\n",
        "files.upload()"
      ]
    },
    {
      "cell_type": "code",
      "execution_count": null,
      "metadata": {
        "id": "dJqlADJqFmKi"
      },
      "outputs": [],
      "source": [
        "!mkdir ~/.kaggle\n",
        "!cp kaggle.json ~/.kaggle/\n",
        "!chmod 600 ~/.kaggle/kaggle.json"
      ]
    },
    {
      "cell_type": "code",
      "execution_count": null,
      "metadata": {
        "colab": {
          "base_uri": "https://localhost:8080/"
        },
        "id": "J6Vr7tLYFmKj",
        "outputId": "92a2c4ad-5e62-4132-ace6-ef16f39a804f"
      },
      "outputs": [
        {
          "output_type": "stream",
          "name": "stdout",
          "text": [
            "Downloading dogs-vs-cats.zip to /content\n",
            " 98% 794M/812M [00:04<00:00, 231MB/s]\n",
            "100% 812M/812M [00:04<00:00, 181MB/s]\n"
          ]
        }
      ],
      "source": [
        "!kaggle competitions download -c dogs-vs-cats"
      ]
    },
    {
      "cell_type": "code",
      "execution_count": null,
      "metadata": {
        "id": "y022zyHyGm8F"
      },
      "outputs": [],
      "source": [
        "!unzip -qq dogs-vs-cats.zip"
      ]
    },
    {
      "cell_type": "code",
      "execution_count": null,
      "metadata": {
        "id": "LlH3EUGJGuQx"
      },
      "outputs": [],
      "source": [
        "!unzip -qq test1.zip"
      ]
    },
    {
      "cell_type": "code",
      "execution_count": null,
      "metadata": {
        "id": "qG9BXmE7FmKj"
      },
      "outputs": [],
      "source": [
        "!unzip -qq train.zip"
      ]
    },
    {
      "cell_type": "markdown",
      "source": [
        "## Question1.\n",
        "## Consider the Cats & Dogs example. Start initially with a training sample of 1000, a validation sample of 500, and a test sample of 500 (like in the text). Use any technique to reduce overfitting and improve performance in developing a network that you train from scratch. What performance did you achieve?  "
      ],
      "metadata": {
        "id": "GdxsJXiUE7qA"
      }
    },
    {
      "cell_type": "markdown",
      "metadata": {
        "id": "bLIRhL0dFmKj"
      },
      "source": [
        "**Copying images to training, validation, and test directories**"
      ]
    },
    {
      "cell_type": "code",
      "execution_count": null,
      "metadata": {
        "id": "ZkRHQF1EFmKj"
      },
      "outputs": [],
      "source": [
        "import os, shutil, pathlib\n",
        "\n",
        "original_dir = pathlib.Path(\"train\")\n",
        "new_base_dir = pathlib.Path(\"cats_vs_dogs_small\")\n",
        "\n",
        "def make_subset(subset_name, start_index, end_index):\n",
        "    for category in (\"cat\", \"dog\"):\n",
        "        dir = new_base_dir / subset_name / category\n",
        "        os.makedirs(dir)\n",
        "        fnames = [f\"{category}.{i}.jpg\" for i in range(start_index, end_index)]\n",
        "        for fname in fnames:\n",
        "            shutil.copyfile(src=original_dir / fname,\n",
        "                            dst=dir / fname)\n",
        "#Initially taking 1000 samples for training set\n",
        "make_subset(\"train\", start_index=0, end_index=1000)\n",
        "#500 samples for validation set\n",
        "make_subset(\"validation\", start_index=1000, end_index=1500)\n",
        "#500 for test set\n",
        "make_subset(\"test\", start_index=1500, end_index=2000)"
      ]
    },
    {
      "cell_type": "markdown",
      "metadata": {
        "id": "MlAB7SChFmKl"
      },
      "source": [
        "### Data preprocessing"
      ]
    },
    {
      "cell_type": "markdown",
      "metadata": {
        "id": "546s2qlEFmKl"
      },
      "source": [
        "**Using `image_dataset_from_directory` to read images**"
      ]
    },
    {
      "cell_type": "code",
      "execution_count": null,
      "metadata": {
        "id": "5NL0c20BFmKl",
        "colab": {
          "base_uri": "https://localhost:8080/"
        },
        "outputId": "c945d2be-09df-4fd4-99a9-b90b3a4e6303"
      },
      "outputs": [
        {
          "output_type": "stream",
          "name": "stdout",
          "text": [
            "Found 2000 files belonging to 2 classes.\n",
            "Found 1000 files belonging to 2 classes.\n",
            "Found 1000 files belonging to 2 classes.\n"
          ]
        }
      ],
      "source": [
        "from tensorflow.keras.utils import image_dataset_from_directory\n",
        "\n",
        "train_dataset = image_dataset_from_directory(\n",
        "    new_base_dir / \"train\",\n",
        "    image_size=(180, 180),\n",
        "    batch_size=32)\n",
        "validation_dataset = image_dataset_from_directory(\n",
        "    new_base_dir / \"validation\",\n",
        "    image_size=(180, 180),\n",
        "    batch_size=32)\n",
        "test_dataset = image_dataset_from_directory(\n",
        "    new_base_dir / \"test\",\n",
        "    image_size=(180, 180),\n",
        "    batch_size=32)"
      ]
    },
    {
      "cell_type": "code",
      "execution_count": null,
      "metadata": {
        "id": "PqOCt_ozFmKm"
      },
      "outputs": [],
      "source": [
        "import numpy as np\n",
        "import tensorflow as tf\n",
        "random_numbers = np.random.normal(size=(1000, 16))\n",
        "dataset = tf.data.Dataset.from_tensor_slices(random_numbers)"
      ]
    },
    {
      "cell_type": "code",
      "execution_count": null,
      "metadata": {
        "id": "g_bjz7rYFmKm",
        "colab": {
          "base_uri": "https://localhost:8080/"
        },
        "outputId": "011a7dec-eafe-45bc-c802-3205b428ce45"
      },
      "outputs": [
        {
          "output_type": "stream",
          "name": "stdout",
          "text": [
            "(16,)\n",
            "(16,)\n",
            "(16,)\n"
          ]
        }
      ],
      "source": [
        "for i, element in enumerate(dataset):\n",
        "    print(element.shape)\n",
        "    if i >= 2:\n",
        "        break"
      ]
    },
    {
      "cell_type": "code",
      "execution_count": null,
      "metadata": {
        "id": "ZtttzP13FmKm",
        "colab": {
          "base_uri": "https://localhost:8080/"
        },
        "outputId": "1087106b-918c-4ec2-9977-9226412bef1c"
      },
      "outputs": [
        {
          "output_type": "stream",
          "name": "stdout",
          "text": [
            "(32, 16)\n",
            "(32, 16)\n",
            "(32, 16)\n"
          ]
        }
      ],
      "source": [
        "batched_dataset = dataset.batch(32)\n",
        "for i, element in enumerate(batched_dataset):\n",
        "    print(element.shape)\n",
        "    if i >= 2:\n",
        "        break"
      ]
    },
    {
      "cell_type": "code",
      "execution_count": null,
      "metadata": {
        "id": "xz-XJ7piFmKm",
        "colab": {
          "base_uri": "https://localhost:8080/"
        },
        "outputId": "8f8025c2-5466-4e8c-88ea-0be08c5271a6"
      },
      "outputs": [
        {
          "output_type": "stream",
          "name": "stdout",
          "text": [
            "(4, 4)\n",
            "(4, 4)\n",
            "(4, 4)\n"
          ]
        }
      ],
      "source": [
        "reshaped_dataset = dataset.map(lambda x: tf.reshape(x, (4, 4)))\n",
        "for i, element in enumerate(reshaped_dataset):\n",
        "    print(element.shape)\n",
        "    if i >= 2:\n",
        "        break"
      ]
    },
    {
      "cell_type": "code",
      "execution_count": null,
      "metadata": {
        "id": "kSa6phIaNo0Z",
        "colab": {
          "base_uri": "https://localhost:8080/"
        },
        "outputId": "61c1a603-1c9d-427e-8261-411a389914d2"
      },
      "outputs": [
        {
          "output_type": "stream",
          "name": "stdout",
          "text": [
            "data batch shape: (32, 180, 180, 3)\n",
            "labels batch shape: (32,)\n"
          ]
        }
      ],
      "source": [
        "for data_batch, labels_batch in train_dataset:\n",
        "    print(\"data batch shape:\", data_batch.shape)\n",
        "    print(\"labels batch shape:\", labels_batch.shape)\n",
        "    break"
      ]
    },
    {
      "cell_type": "markdown",
      "source": [
        "## Building the model"
      ],
      "metadata": {
        "id": "01HFfXeOFoy9"
      }
    },
    {
      "cell_type": "code",
      "execution_count": null,
      "metadata": {
        "id": "EpjV0yzoMvp4"
      },
      "outputs": [],
      "source": [
        "from tensorflow import keras\n",
        "from tensorflow.keras import layers\n",
        "\n",
        "inputs = keras.Input(shape=(180, 180, 3))\n",
        "x = layers.Rescaling(1./255)(inputs)\n",
        "x = layers.Conv2D(filters=32, kernel_size=3, activation=\"relu\")(x)\n",
        "x = layers.MaxPooling2D(pool_size=2)(x)\n",
        "x = layers.Conv2D(filters=64, kernel_size=3, activation=\"relu\")(x)\n",
        "x = layers.MaxPooling2D(pool_size=2)(x)\n",
        "x = layers.Conv2D(filters=128, kernel_size=3, activation=\"relu\")(x)\n",
        "x = layers.MaxPooling2D(pool_size=2)(x)\n",
        "x = layers.Conv2D(filters=256, kernel_size=3, activation=\"relu\")(x)\n",
        "x = layers.MaxPooling2D(pool_size=2)(x)\n",
        "x = layers.Conv2D(filters=256, kernel_size=3, activation=\"relu\")(x)\n",
        "x = layers.Flatten()(x)\n",
        "x = layers.Dropout(0.5)(x)\n",
        "outputs = layers.Dense(1, activation=\"sigmoid\")(x)\n",
        "model = keras.Model(inputs=inputs, outputs=outputs)"
      ]
    },
    {
      "cell_type": "code",
      "execution_count": null,
      "metadata": {
        "id": "yFl375ucNBX0"
      },
      "outputs": [],
      "source": [
        "model.compile(loss=\"binary_crossentropy\",\n",
        "              optimizer=\"rmsprop\",\n",
        "              metrics=[\"accuracy\"])"
      ]
    },
    {
      "cell_type": "code",
      "execution_count": null,
      "metadata": {
        "id": "jEGhxcsaNcik",
        "colab": {
          "base_uri": "https://localhost:8080/"
        },
        "outputId": "71dbd72d-e3b7-4e56-d349-1f0f5ef5b1a3"
      },
      "outputs": [
        {
          "output_type": "stream",
          "name": "stdout",
          "text": [
            "Model: \"model\"\n",
            "_________________________________________________________________\n",
            " Layer (type)                Output Shape              Param #   \n",
            "=================================================================\n",
            " input_1 (InputLayer)        [(None, 180, 180, 3)]     0         \n",
            "                                                                 \n",
            " rescaling (Rescaling)       (None, 180, 180, 3)       0         \n",
            "                                                                 \n",
            " conv2d (Conv2D)             (None, 178, 178, 32)      896       \n",
            "                                                                 \n",
            " max_pooling2d (MaxPooling2D  (None, 89, 89, 32)       0         \n",
            " )                                                               \n",
            "                                                                 \n",
            " conv2d_1 (Conv2D)           (None, 87, 87, 64)        18496     \n",
            "                                                                 \n",
            " max_pooling2d_1 (MaxPooling  (None, 43, 43, 64)       0         \n",
            " 2D)                                                             \n",
            "                                                                 \n",
            " conv2d_2 (Conv2D)           (None, 41, 41, 128)       73856     \n",
            "                                                                 \n",
            " max_pooling2d_2 (MaxPooling  (None, 20, 20, 128)      0         \n",
            " 2D)                                                             \n",
            "                                                                 \n",
            " conv2d_3 (Conv2D)           (None, 18, 18, 256)       295168    \n",
            "                                                                 \n",
            " max_pooling2d_3 (MaxPooling  (None, 9, 9, 256)        0         \n",
            " 2D)                                                             \n",
            "                                                                 \n",
            " conv2d_4 (Conv2D)           (None, 7, 7, 256)         590080    \n",
            "                                                                 \n",
            " flatten (Flatten)           (None, 12544)             0         \n",
            "                                                                 \n",
            " dropout (Dropout)           (None, 12544)             0         \n",
            "                                                                 \n",
            " dense (Dense)               (None, 1)                 12545     \n",
            "                                                                 \n",
            "=================================================================\n",
            "Total params: 991,041\n",
            "Trainable params: 991,041\n",
            "Non-trainable params: 0\n",
            "_________________________________________________________________\n"
          ]
        }
      ],
      "source": [
        "model.summary()"
      ]
    },
    {
      "cell_type": "markdown",
      "metadata": {
        "id": "15qvgqMpFmKn"
      },
      "source": [
        "**Fitting the model using a `Dataset`**"
      ]
    },
    {
      "cell_type": "code",
      "execution_count": null,
      "metadata": {
        "id": "iXar_bwdFmKn",
        "colab": {
          "base_uri": "https://localhost:8080/"
        },
        "outputId": "fec21156-f296-4254-9a05-a4d21586a91b"
      },
      "outputs": [
        {
          "output_type": "stream",
          "name": "stdout",
          "text": [
            "Epoch 1/30\n",
            "63/63 [==============================] - 20s 128ms/step - loss: 0.7150 - accuracy: 0.4925 - val_loss: 0.6913 - val_accuracy: 0.6050\n",
            "Epoch 2/30\n",
            "63/63 [==============================] - 7s 113ms/step - loss: 0.7020 - accuracy: 0.5270 - val_loss: 0.6824 - val_accuracy: 0.6210\n",
            "Epoch 3/30\n",
            "63/63 [==============================] - 7s 114ms/step - loss: 0.6897 - accuracy: 0.5955 - val_loss: 0.6517 - val_accuracy: 0.6400\n",
            "Epoch 4/30\n",
            "63/63 [==============================] - 7s 114ms/step - loss: 0.6624 - accuracy: 0.6390 - val_loss: 0.6209 - val_accuracy: 0.6420\n",
            "Epoch 5/30\n",
            "63/63 [==============================] - 7s 113ms/step - loss: 0.5956 - accuracy: 0.6990 - val_loss: 0.5810 - val_accuracy: 0.6880\n",
            "Epoch 6/30\n",
            "63/63 [==============================] - 7s 113ms/step - loss: 0.5625 - accuracy: 0.7070 - val_loss: 0.5765 - val_accuracy: 0.6980\n",
            "Epoch 7/30\n",
            "63/63 [==============================] - 8s 119ms/step - loss: 0.5308 - accuracy: 0.7375 - val_loss: 0.5598 - val_accuracy: 0.7180\n",
            "Epoch 8/30\n",
            "63/63 [==============================] - 8s 114ms/step - loss: 0.4940 - accuracy: 0.7690 - val_loss: 0.5984 - val_accuracy: 0.6610\n",
            "Epoch 9/30\n",
            "63/63 [==============================] - 7s 113ms/step - loss: 0.4514 - accuracy: 0.7980 - val_loss: 0.5730 - val_accuracy: 0.7250\n",
            "Epoch 10/30\n",
            "63/63 [==============================] - 7s 112ms/step - loss: 0.4188 - accuracy: 0.8215 - val_loss: 0.5780 - val_accuracy: 0.7270\n",
            "Epoch 11/30\n",
            "63/63 [==============================] - 7s 113ms/step - loss: 0.3758 - accuracy: 0.8390 - val_loss: 0.6234 - val_accuracy: 0.7080\n",
            "Epoch 12/30\n",
            "63/63 [==============================] - 7s 114ms/step - loss: 0.3334 - accuracy: 0.8480 - val_loss: 0.7757 - val_accuracy: 0.7100\n",
            "Epoch 13/30\n",
            "63/63 [==============================] - 7s 112ms/step - loss: 0.2755 - accuracy: 0.8815 - val_loss: 0.8306 - val_accuracy: 0.7280\n",
            "Epoch 14/30\n",
            "63/63 [==============================] - 7s 112ms/step - loss: 0.2551 - accuracy: 0.8975 - val_loss: 0.6786 - val_accuracy: 0.7640\n",
            "Epoch 15/30\n",
            "63/63 [==============================] - 8s 115ms/step - loss: 0.1972 - accuracy: 0.9250 - val_loss: 0.6911 - val_accuracy: 0.7480\n",
            "Epoch 16/30\n",
            "63/63 [==============================] - 7s 113ms/step - loss: 0.1921 - accuracy: 0.9310 - val_loss: 0.6978 - val_accuracy: 0.7810\n",
            "Epoch 17/30\n",
            "63/63 [==============================] - 7s 114ms/step - loss: 0.1437 - accuracy: 0.9475 - val_loss: 0.8421 - val_accuracy: 0.7770\n",
            "Epoch 18/30\n",
            "63/63 [==============================] - 7s 113ms/step - loss: 0.1378 - accuracy: 0.9490 - val_loss: 0.8041 - val_accuracy: 0.7840\n",
            "Epoch 19/30\n",
            "63/63 [==============================] - 7s 114ms/step - loss: 0.1369 - accuracy: 0.9465 - val_loss: 0.9052 - val_accuracy: 0.7770\n",
            "Epoch 20/30\n",
            "63/63 [==============================] - 8s 116ms/step - loss: 0.1259 - accuracy: 0.9530 - val_loss: 0.8710 - val_accuracy: 0.7570\n",
            "Epoch 21/30\n",
            "63/63 [==============================] - 7s 114ms/step - loss: 0.0863 - accuracy: 0.9680 - val_loss: 1.0101 - val_accuracy: 0.7620\n",
            "Epoch 22/30\n",
            "63/63 [==============================] - 8s 115ms/step - loss: 0.0944 - accuracy: 0.9735 - val_loss: 0.9975 - val_accuracy: 0.7500\n",
            "Epoch 23/30\n",
            "63/63 [==============================] - 7s 114ms/step - loss: 0.0895 - accuracy: 0.9690 - val_loss: 1.0810 - val_accuracy: 0.7470\n",
            "Epoch 24/30\n",
            "63/63 [==============================] - 8s 121ms/step - loss: 0.0664 - accuracy: 0.9790 - val_loss: 1.2117 - val_accuracy: 0.7700\n",
            "Epoch 25/30\n",
            "63/63 [==============================] - 8s 115ms/step - loss: 0.0712 - accuracy: 0.9770 - val_loss: 1.3941 - val_accuracy: 0.7380\n",
            "Epoch 26/30\n",
            "63/63 [==============================] - 7s 114ms/step - loss: 0.0765 - accuracy: 0.9725 - val_loss: 1.2121 - val_accuracy: 0.7500\n",
            "Epoch 27/30\n",
            "63/63 [==============================] - 7s 114ms/step - loss: 0.0637 - accuracy: 0.9775 - val_loss: 1.4315 - val_accuracy: 0.7450\n",
            "Epoch 28/30\n",
            "63/63 [==============================] - 7s 113ms/step - loss: 0.0583 - accuracy: 0.9770 - val_loss: 1.6900 - val_accuracy: 0.7380\n",
            "Epoch 29/30\n",
            "63/63 [==============================] - 7s 113ms/step - loss: 0.0515 - accuracy: 0.9805 - val_loss: 1.4084 - val_accuracy: 0.7690\n",
            "Epoch 30/30\n",
            "63/63 [==============================] - 7s 113ms/step - loss: 0.0700 - accuracy: 0.9765 - val_loss: 1.1897 - val_accuracy: 0.7680\n"
          ]
        }
      ],
      "source": [
        "callbacks = [\n",
        "    keras.callbacks.ModelCheckpoint(\n",
        "        filepath=\"convnet_from_scratch.keras\",\n",
        "        save_best_only=True,\n",
        "        monitor=\"val_loss\")\n",
        "]\n",
        "history = model.fit(\n",
        "    train_dataset,\n",
        "    epochs=30,\n",
        "    validation_data=validation_dataset,\n",
        "    callbacks=callbacks)"
      ]
    },
    {
      "cell_type": "markdown",
      "metadata": {
        "id": "pODKsxzOFmKn"
      },
      "source": [
        "**Displaying curves of loss and accuracy during training**"
      ]
    },
    {
      "cell_type": "code",
      "execution_count": null,
      "metadata": {
        "id": "W2AtqrUaFmKn",
        "colab": {
          "base_uri": "https://localhost:8080/",
          "height": 1000
        },
        "outputId": "85357f85-41dc-4f75-8e28-44c0edf62ad0"
      },
      "outputs": [
        {
          "output_type": "display_data",
          "data": {
            "text/plain": [
              "<Figure size 720x720 with 1 Axes>"
            ],
            "image/png": "[encoded data removed]"
          },
          "metadata": {
            "needs_background": "light"
          }
        },
        {
          "output_type": "display_data",
          "data": {
            "text/plain": [
              "<Figure size 432x288 with 0 Axes>"
            ]
          },
          "metadata": {}
        },
        {
          "output_type": "display_data",
          "data": {
            "text/plain": [
              "<Figure size 720x720 with 1 Axes>"
            ],
            "image/png": "[encoded data removed]"
          },
          "metadata": {
            "needs_background": "light"
          }
        }
      ],
      "source": [
        "import matplotlib.pyplot as plt\n",
        "plt.figure(figsize=(10,10))\n",
        "accuracy = history.history[\"accuracy\"]\n",
        "val_accuracy = history.history[\"val_accuracy\"]\n",
        "loss = history.history[\"loss\"]\n",
        "val_loss = history.history[\"val_loss\"]\n",
        "epochs = range(1, len(accuracy) + 1)\n",
        "plt.plot(epochs, accuracy, \"bo\", label=\"Training accuracy\")\n",
        "plt.plot(epochs, val_accuracy, \"b\", label=\"Validation accuracy\")\n",
        "plt.title(\"Training and validation accuracy\")\n",
        "plt.legend()\n",
        "plt.figure()\n",
        "plt.figure(figsize=(10,10))\n",
        "plt.plot(epochs, loss, \"bo\", label=\"Training loss\")\n",
        "plt.plot(epochs, val_loss, \"b\", label=\"Validation loss\")\n",
        "plt.title(\"Training and validation loss\")\n",
        "plt.legend()\n",
        "plt.show()"
      ]
    },
    {
      "cell_type": "markdown",
      "metadata": {
        "id": "DzqXGz-QFmKo"
      },
      "source": [
        "**Evaluating the model on the test set**"
      ]
    },
    {
      "cell_type": "code",
      "execution_count": null,
      "metadata": {
        "id": "UWoYh_FGFmKo",
        "colab": {
          "base_uri": "https://localhost:8080/"
        },
        "outputId": "470bf11f-01a5-4340-d2f1-246ee67c4f12"
      },
      "outputs": [
        {
          "output_type": "stream",
          "name": "stdout",
          "text": [
            "32/32 [==============================] - 2s 50ms/step - loss: 0.5835 - accuracy: 0.7030\n",
            "Test accuracy: 0.703\n"
          ]
        }
      ],
      "source": [
        "test_model = keras.models.load_model(\"convnet_from_scratch.keras\")\n",
        "test_loss, test_acc = test_model.evaluate(test_dataset)\n",
        "print(f\"Test accuracy: {test_acc:.3f}\")"
      ]
    },
    {
      "cell_type": "markdown",
      "source": [
        "## Here we got training accurracy as 97.65%, validation accuracy as 76.8% and test accuracy 70.3%"
      ],
      "metadata": {
        "id": "552KAWVkHPp3"
      }
    },
    {
      "cell_type": "markdown",
      "source": [
        "## Question 2\n",
        "## Increase your training sample size. You may pick any amount. Keep the validation and test samples the same as above. Optimize your network (again training from scratch). What performance did you achieve?  "
      ],
      "metadata": {
        "id": "Dw28F43QL2xw"
      }
    },
    {
      "cell_type": "markdown",
      "metadata": {
        "id": "jKHDyvV3FmKo"
      },
      "source": [
        "### Using data augmentation"
      ]
    },
    {
      "cell_type": "markdown",
      "metadata": {
        "id": "78e4iU8jFmKo"
      },
      "source": [
        "**Define a data augmentation stage to add to an image model**"
      ]
    },
    {
      "cell_type": "code",
      "execution_count": null,
      "metadata": {
        "id": "eUuudC8TOiA7"
      },
      "outputs": [],
      "source": [
        "import os, shutil, pathlib\n",
        "\n",
        "shutil.rmtree(\"./cats_vs_dogs_small_Q2\", ignore_errors=True)\n",
        "\n",
        "original_dir = pathlib.Path(\"train\")\n",
        "new_base_dir = pathlib.Path(\"cats_vs_dogs_small_Q2\")\n",
        "\n",
        "def make_subset(subset_name, start_index, end_index):\n",
        "    for category in (\"cat\", \"dog\"):\n",
        "        dir = new_base_dir / subset_name / category\n",
        "        os.makedirs(dir)\n",
        "        fnames = [f\"{category}.{i}.jpg\" for i in range(start_index, end_index)]\n",
        "        for fname in fnames:\n",
        "            shutil.copyfile(src=original_dir / fname,\n",
        "                            dst=dir / fname)\n",
        "#Here I have increased training sample size to 1500 and keeping the validation and test sample size to 500 each as before\n",
        "make_subset(\"train\", start_index=0, end_index=1500)\n",
        "make_subset(\"validation\", start_index=1500, end_index=2000)\n",
        "make_subset(\"test\", start_index=2000, end_index=2500)"
      ]
    },
    {
      "cell_type": "code",
      "execution_count": null,
      "metadata": {
        "id": "j4z47TkXFmKo"
      },
      "outputs": [],
      "source": [
        "data_augmentation = keras.Sequential(\n",
        "    [\n",
        "        layers.RandomFlip(\"horizontal\"),\n",
        "        layers.RandomRotation(0.1),\n",
        "        layers.RandomZoom(0.2),\n",
        "    ]\n",
        ")"
      ]
    },
    {
      "cell_type": "markdown",
      "metadata": {
        "id": "62HeGYLxFmKo"
      },
      "source": [
        "**Displaying some randomly augmented training images**"
      ]
    },
    {
      "cell_type": "code",
      "execution_count": null,
      "metadata": {
        "id": "RbkP2CsiFmKo",
        "colab": {
          "base_uri": "https://localhost:8080/",
          "height": 575
        },
        "outputId": "beec54d4-598c-436b-cab3-481bdfc64af6"
      },
      "outputs": [
        {
          "output_type": "display_data",
          "data": {
            "text/plain": [
              "<Figure size 720x720 with 9 Axes>"
            ],
            "image/png": "[encoded data removed]"
          },
          "metadata": {
            "needs_background": "light"
          }
        }
      ],
      "source": [
        "plt.figure(figsize=(10, 10))\n",
        "for images, _ in train_dataset.take(1):\n",
        "    for i in range(9):\n",
        "        augmented_images = data_augmentation(images)\n",
        "        ax = plt.subplot(3, 3, i + 1)\n",
        "        plt.imshow(augmented_images[0].numpy().astype(\"uint8\"))\n",
        "        plt.axis(\"off\")"
      ]
    },
    {
      "cell_type": "markdown",
      "metadata": {
        "id": "UHGX9iNmFmKp"
      },
      "source": [
        "**Defining a new convnet that includes image augmentation and dropout**"
      ]
    },
    {
      "cell_type": "code",
      "execution_count": null,
      "metadata": {
        "id": "McvnDO42FmKp"
      },
      "outputs": [],
      "source": [
        "inputs = keras.Input(shape=(180, 180, 3))\n",
        "x = data_augmentation(inputs)\n",
        "x = layers.Rescaling(1./255)(x)\n",
        "x = layers.Conv2D(filters=32, kernel_size=3, activation=\"relu\")(x)\n",
        "x = layers.MaxPooling2D(pool_size=2)(x)\n",
        "x = layers.Conv2D(filters=64, kernel_size=3, activation=\"relu\")(x)\n",
        "x = layers.MaxPooling2D(pool_size=2)(x)\n",
        "x = layers.Conv2D(filters=128, kernel_size=3, activation=\"relu\")(x)\n",
        "x = layers.MaxPooling2D(pool_size=2)(x)\n",
        "x = layers.Conv2D(filters=256, kernel_size=3, activation=\"relu\")(x)\n",
        "x = layers.MaxPooling2D(pool_size=2)(x)\n",
        "x = layers.Conv2D(filters=256, kernel_size=3, activation=\"relu\")(x)\n",
        "x = layers.Flatten()(x)\n",
        "x = layers.Dropout(0.5)(x)\n",
        "outputs = layers.Dense(1, activation=\"sigmoid\")(x)\n",
        "model = keras.Model(inputs=inputs, outputs=outputs)\n",
        "\n",
        "model.compile(loss=\"binary_crossentropy\",\n",
        "              optimizer=\"rmsprop\",\n",
        "              metrics=[\"accuracy\"])"
      ]
    },
    {
      "cell_type": "markdown",
      "metadata": {
        "id": "3ofNUhpnFmKp"
      },
      "source": [
        "**Training the regularized convnet**"
      ]
    },
    {
      "cell_type": "code",
      "execution_count": null,
      "metadata": {
        "id": "EM7e3-Q9FmKp",
        "colab": {
          "base_uri": "https://localhost:8080/"
        },
        "outputId": "ab65b5be-1651-4efd-8deb-7678aba3c4a4"
      },
      "outputs": [
        {
          "output_type": "stream",
          "name": "stdout",
          "text": [
            "Epoch 1/50\n",
            "63/63 [==============================] - 10s 126ms/step - loss: 0.7044 - accuracy: 0.5060 - val_loss: 0.8153 - val_accuracy: 0.5000\n",
            "Epoch 2/50\n",
            "63/63 [==============================] - 8s 121ms/step - loss: 0.7021 - accuracy: 0.5420 - val_loss: 0.6720 - val_accuracy: 0.5480\n",
            "Epoch 3/50\n",
            "63/63 [==============================] - 8s 119ms/step - loss: 0.6846 - accuracy: 0.5815 - val_loss: 0.6289 - val_accuracy: 0.6680\n",
            "Epoch 4/50\n",
            "63/63 [==============================] - 8s 119ms/step - loss: 0.6483 - accuracy: 0.6290 - val_loss: 1.0360 - val_accuracy: 0.5140\n",
            "Epoch 5/50\n",
            "63/63 [==============================] - 8s 120ms/step - loss: 0.6571 - accuracy: 0.6300 - val_loss: 0.6159 - val_accuracy: 0.6550\n",
            "Epoch 6/50\n",
            "63/63 [==============================] - 8s 119ms/step - loss: 0.6323 - accuracy: 0.6545 - val_loss: 0.6549 - val_accuracy: 0.6190\n",
            "Epoch 7/50\n",
            "63/63 [==============================] - 8s 119ms/step - loss: 0.6092 - accuracy: 0.6700 - val_loss: 0.6816 - val_accuracy: 0.5970\n",
            "Epoch 8/50\n",
            "63/63 [==============================] - 8s 120ms/step - loss: 0.5956 - accuracy: 0.6855 - val_loss: 0.5677 - val_accuracy: 0.6910\n",
            "Epoch 9/50\n",
            "63/63 [==============================] - 8s 120ms/step - loss: 0.5883 - accuracy: 0.6905 - val_loss: 0.6189 - val_accuracy: 0.6460\n",
            "Epoch 10/50\n",
            "63/63 [==============================] - 8s 119ms/step - loss: 0.5887 - accuracy: 0.6925 - val_loss: 0.5258 - val_accuracy: 0.7400\n",
            "Epoch 11/50\n",
            "63/63 [==============================] - 8s 120ms/step - loss: 0.5671 - accuracy: 0.7025 - val_loss: 0.5318 - val_accuracy: 0.7420\n",
            "Epoch 12/50\n",
            "63/63 [==============================] - 8s 119ms/step - loss: 0.5534 - accuracy: 0.7180 - val_loss: 0.6757 - val_accuracy: 0.6750\n",
            "Epoch 13/50\n",
            "63/63 [==============================] - 8s 121ms/step - loss: 0.5446 - accuracy: 0.7250 - val_loss: 0.4984 - val_accuracy: 0.7530\n",
            "Epoch 14/50\n",
            "63/63 [==============================] - 8s 119ms/step - loss: 0.5377 - accuracy: 0.7410 - val_loss: 0.5543 - val_accuracy: 0.7140\n",
            "Epoch 15/50\n",
            "63/63 [==============================] - 8s 120ms/step - loss: 0.5182 - accuracy: 0.7485 - val_loss: 0.5305 - val_accuracy: 0.7250\n",
            "Epoch 16/50\n",
            "63/63 [==============================] - 8s 119ms/step - loss: 0.5113 - accuracy: 0.7525 - val_loss: 0.4804 - val_accuracy: 0.7730\n",
            "Epoch 17/50\n",
            "63/63 [==============================] - 8s 120ms/step - loss: 0.4986 - accuracy: 0.7555 - val_loss: 0.6932 - val_accuracy: 0.7010\n",
            "Epoch 18/50\n",
            "63/63 [==============================] - 8s 122ms/step - loss: 0.4916 - accuracy: 0.7620 - val_loss: 0.4712 - val_accuracy: 0.7780\n",
            "Epoch 19/50\n",
            "63/63 [==============================] - 8s 121ms/step - loss: 0.4842 - accuracy: 0.7625 - val_loss: 0.4482 - val_accuracy: 0.7920\n",
            "Epoch 20/50\n",
            "63/63 [==============================] - 8s 120ms/step - loss: 0.4745 - accuracy: 0.7885 - val_loss: 0.4953 - val_accuracy: 0.7690\n",
            "Epoch 21/50\n",
            "63/63 [==============================] - 8s 119ms/step - loss: 0.4771 - accuracy: 0.7865 - val_loss: 0.6146 - val_accuracy: 0.7510\n",
            "Epoch 22/50\n",
            "63/63 [==============================] - 8s 120ms/step - loss: 0.4699 - accuracy: 0.7890 - val_loss: 0.4982 - val_accuracy: 0.7610\n",
            "Epoch 23/50\n",
            "63/63 [==============================] - 8s 120ms/step - loss: 0.4539 - accuracy: 0.7900 - val_loss: 0.4848 - val_accuracy: 0.7820\n",
            "Epoch 24/50\n",
            "63/63 [==============================] - 8s 118ms/step - loss: 0.4342 - accuracy: 0.8070 - val_loss: 0.4527 - val_accuracy: 0.8040\n",
            "Epoch 25/50\n",
            "63/63 [==============================] - 8s 119ms/step - loss: 0.4353 - accuracy: 0.8040 - val_loss: 0.7856 - val_accuracy: 0.6870\n",
            "Epoch 26/50\n",
            "63/63 [==============================] - 8s 119ms/step - loss: 0.4185 - accuracy: 0.8080 - val_loss: 0.4742 - val_accuracy: 0.8060\n",
            "Epoch 27/50\n",
            "63/63 [==============================] - 8s 119ms/step - loss: 0.4187 - accuracy: 0.8105 - val_loss: 0.4666 - val_accuracy: 0.7800\n",
            "Epoch 28/50\n",
            "63/63 [==============================] - 8s 119ms/step - loss: 0.4007 - accuracy: 0.8200 - val_loss: 0.4923 - val_accuracy: 0.7910\n",
            "Epoch 29/50\n",
            "63/63 [==============================] - 8s 123ms/step - loss: 0.3952 - accuracy: 0.8250 - val_loss: 0.4944 - val_accuracy: 0.8020\n",
            "Epoch 30/50\n",
            "63/63 [==============================] - 8s 119ms/step - loss: 0.4045 - accuracy: 0.8205 - val_loss: 0.4540 - val_accuracy: 0.7910\n",
            "Epoch 31/50\n",
            "63/63 [==============================] - 8s 123ms/step - loss: 0.4107 - accuracy: 0.8220 - val_loss: 0.4017 - val_accuracy: 0.8330\n",
            "Epoch 32/50\n",
            "63/63 [==============================] - 8s 120ms/step - loss: 0.4003 - accuracy: 0.8265 - val_loss: 0.4682 - val_accuracy: 0.7940\n",
            "Epoch 33/50\n",
            "63/63 [==============================] - 8s 121ms/step - loss: 0.3813 - accuracy: 0.8315 - val_loss: 0.4325 - val_accuracy: 0.8130\n",
            "Epoch 34/50\n",
            "63/63 [==============================] - 8s 120ms/step - loss: 0.3858 - accuracy: 0.8365 - val_loss: 0.5907 - val_accuracy: 0.7910\n",
            "Epoch 35/50\n",
            "63/63 [==============================] - 8s 120ms/step - loss: 0.3524 - accuracy: 0.8480 - val_loss: 0.4479 - val_accuracy: 0.8310\n",
            "Epoch 36/50\n",
            "63/63 [==============================] - 8s 119ms/step - loss: 0.3478 - accuracy: 0.8485 - val_loss: 0.4542 - val_accuracy: 0.8310\n",
            "Epoch 37/50\n",
            "63/63 [==============================] - 8s 119ms/step - loss: 0.3288 - accuracy: 0.8570 - val_loss: 0.4713 - val_accuracy: 0.8040\n",
            "Epoch 38/50\n",
            "63/63 [==============================] - 8s 119ms/step - loss: 0.3467 - accuracy: 0.8520 - val_loss: 0.4399 - val_accuracy: 0.8280\n",
            "Epoch 39/50\n",
            "63/63 [==============================] - 8s 120ms/step - loss: 0.3555 - accuracy: 0.8455 - val_loss: 0.5204 - val_accuracy: 0.7980\n",
            "Epoch 40/50\n",
            "63/63 [==============================] - 8s 119ms/step - loss: 0.3193 - accuracy: 0.8625 - val_loss: 0.5223 - val_accuracy: 0.7630\n",
            "Epoch 41/50\n",
            "63/63 [==============================] - 8s 119ms/step - loss: 0.3225 - accuracy: 0.8670 - val_loss: 0.4453 - val_accuracy: 0.8230\n",
            "Epoch 42/50\n",
            "63/63 [==============================] - 8s 119ms/step - loss: 0.2932 - accuracy: 0.8805 - val_loss: 0.5365 - val_accuracy: 0.8030\n",
            "Epoch 43/50\n",
            "63/63 [==============================] - 8s 120ms/step - loss: 0.3028 - accuracy: 0.8685 - val_loss: 0.4353 - val_accuracy: 0.8440\n",
            "Epoch 44/50\n",
            "63/63 [==============================] - 8s 121ms/step - loss: 0.2836 - accuracy: 0.8865 - val_loss: 0.4938 - val_accuracy: 0.8030\n",
            "Epoch 45/50\n",
            "63/63 [==============================] - 8s 120ms/step - loss: 0.2905 - accuracy: 0.8790 - val_loss: 0.4818 - val_accuracy: 0.8300\n",
            "Epoch 46/50\n",
            "63/63 [==============================] - 8s 120ms/step - loss: 0.2847 - accuracy: 0.8940 - val_loss: 0.6111 - val_accuracy: 0.8070\n",
            "Epoch 47/50\n",
            "63/63 [==============================] - 8s 120ms/step - loss: 0.2743 - accuracy: 0.8840 - val_loss: 0.6422 - val_accuracy: 0.7890\n",
            "Epoch 48/50\n",
            "63/63 [==============================] - 8s 121ms/step - loss: 0.3091 - accuracy: 0.8765 - val_loss: 0.4256 - val_accuracy: 0.8240\n",
            "Epoch 49/50\n",
            "63/63 [==============================] - 8s 119ms/step - loss: 0.2850 - accuracy: 0.8755 - val_loss: 0.4836 - val_accuracy: 0.8260\n",
            "Epoch 50/50\n",
            "63/63 [==============================] - 8s 120ms/step - loss: 0.2612 - accuracy: 0.8920 - val_loss: 0.4780 - val_accuracy: 0.8200\n"
          ]
        }
      ],
      "source": [
        "callbacks = [\n",
        "    keras.callbacks.ModelCheckpoint(\n",
        "        filepath=\"convnet_from_scratch_with_augmentation.keras\",\n",
        "        save_best_only=True,\n",
        "        monitor=\"val_loss\")\n",
        "]\n",
        "history = model.fit(\n",
        "    train_dataset,\n",
        "    epochs=50,\n",
        "    validation_data=validation_dataset,\n",
        "    callbacks=callbacks)"
      ]
    },
    {
      "cell_type": "markdown",
      "metadata": {
        "id": "aSS6f7jgFmKp"
      },
      "source": [
        "**Evaluating the model on the test set**"
      ]
    },
    {
      "cell_type": "code",
      "execution_count": null,
      "metadata": {
        "id": "t4tLKtfHFmKp",
        "colab": {
          "base_uri": "https://localhost:8080/"
        },
        "outputId": "c213b81e-151f-4ebc-ba46-1343e62a324c"
      },
      "outputs": [
        {
          "output_type": "stream",
          "name": "stdout",
          "text": [
            "32/32 [==============================] - 2s 49ms/step - loss: 0.4431 - accuracy: 0.8110\n",
            "Test accuracy: 0.811\n"
          ]
        }
      ],
      "source": [
        "test_model = keras.models.load_model(\n",
        "    \"convnet_from_scratch_with_augmentation.keras\")\n",
        "test_loss, test_acc = test_model.evaluate(test_dataset)\n",
        "print(f\"Test accuracy: {test_acc:.3f}\")"
      ]
    },
    {
      "cell_type": "markdown",
      "source": [
        "## We got training accuracy 89.2% and validation accuracy 82% and test accuracy 81%"
      ],
      "metadata": {
        "id": "fSnMPK7QI-uC"
      }
    },
    {
      "cell_type": "markdown",
      "metadata": {
        "id": "vB8RVv7YPnHM"
      },
      "source": [
        "## Question 3\n",
        "## Now change your training sample so that you achieve better performance than those from Steps 1 and 2. This sample size may be larger, or smaller than those in the previous steps. The objective is to find the ideal training sample size to get best prediction results.  "
      ]
    },
    {
      "cell_type": "code",
      "execution_count": null,
      "metadata": {
        "id": "7i7zzARnPoOC"
      },
      "outputs": [],
      "source": [
        "original_dir = pathlib.Path(\"train\")\n",
        "new_base_dir = pathlib.Path(\"cats_vs_dogs_small_Q3\")\n",
        "\n",
        "def make_subset(subset_name, start_index, end_index):\n",
        "    for category in (\"cat\", \"dog\"):\n",
        "        dir = new_base_dir / subset_name / category\n",
        "        os.makedirs(dir)\n",
        "        fnames = [f\"{category}.{i}.jpg\" for i in range(start_index, end_index)]\n",
        "        for fname in fnames:\n",
        "            shutil.copyfile(src=original_dir / fname,\n",
        "                            dst=dir / fname)\n",
        "#As increasing the sample size is always good than decreasing, here we're increasing the training the sample size to 2000\n",
        "make_subset(\"train\", start_index=0, end_index=2000)\n",
        "#validation and test sample size 500 each\n",
        "make_subset(\"validation\", start_index=2000, end_index=2500)\n",
        "make_subset(\"test\", start_index=2500, end_index=3000)"
      ]
    },
    {
      "cell_type": "code",
      "execution_count": null,
      "metadata": {
        "id": "iBKznbMJP5x7"
      },
      "outputs": [],
      "source": [
        "inputs = keras.Input(shape=(180, 180, 3))\n",
        "x = data_augmentation(inputs)\n",
        "x = layers.Rescaling(1./255)(x)\n",
        "x = layers.Conv2D(filters=32, kernel_size=3, activation=\"relu\")(x)\n",
        "x = layers.MaxPooling2D(pool_size=2)(x)\n",
        "x = layers.Conv2D(filters=64, kernel_size=3, activation=\"relu\")(x)\n",
        "x = layers.MaxPooling2D(pool_size=2)(x)\n",
        "x = layers.Conv2D(filters=128, kernel_size=3, activation=\"relu\")(x)\n",
        "x = layers.MaxPooling2D(pool_size=2)(x)\n",
        "x = layers.Conv2D(filters=256, kernel_size=3, activation=\"relu\")(x)\n",
        "x = layers.MaxPooling2D(pool_size=2)(x)\n",
        "x = layers.Conv2D(filters=256, kernel_size=3, activation=\"relu\")(x)\n",
        "x = layers.Flatten()(x)\n",
        "x = layers.Dropout(0.5)(x)\n",
        "outputs = layers.Dense(1, activation=\"sigmoid\")(x)\n",
        "model = keras.Model(inputs=inputs, outputs=outputs)\n",
        "\n",
        "model.compile(loss=\"binary_crossentropy\",\n",
        "              optimizer=\"adam\",\n",
        "              metrics=[\"accuracy\"])"
      ]
    },
    {
      "cell_type": "code",
      "execution_count": null,
      "metadata": {
        "id": "xGs5d8JQQbq7",
        "colab": {
          "base_uri": "https://localhost:8080/"
        },
        "outputId": "02ed9c26-c0fe-4be4-9aba-4424bc12c381"
      },
      "outputs": [
        {
          "output_type": "stream",
          "name": "stdout",
          "text": [
            "Epoch 1/50\n",
            "63/63 [==============================] - 9s 120ms/step - loss: 0.6933 - accuracy: 0.5045 - val_loss: 0.6880 - val_accuracy: 0.5020\n",
            "Epoch 2/50\n",
            "63/63 [==============================] - 8s 118ms/step - loss: 0.6835 - accuracy: 0.5660 - val_loss: 0.6731 - val_accuracy: 0.6140\n",
            "Epoch 3/50\n",
            "63/63 [==============================] - 8s 118ms/step - loss: 0.6730 - accuracy: 0.5860 - val_loss: 0.6699 - val_accuracy: 0.5690\n",
            "Epoch 4/50\n",
            "63/63 [==============================] - 8s 118ms/step - loss: 0.6686 - accuracy: 0.5985 - val_loss: 0.6636 - val_accuracy: 0.5820\n",
            "Epoch 5/50\n",
            "63/63 [==============================] - 8s 117ms/step - loss: 0.6746 - accuracy: 0.5915 - val_loss: 0.6643 - val_accuracy: 0.6080\n",
            "Epoch 6/50\n",
            "63/63 [==============================] - 8s 117ms/step - loss: 0.6533 - accuracy: 0.6320 - val_loss: 0.6792 - val_accuracy: 0.5720\n",
            "Epoch 7/50\n",
            "63/63 [==============================] - 8s 118ms/step - loss: 0.6439 - accuracy: 0.6270 - val_loss: 0.6328 - val_accuracy: 0.6340\n",
            "Epoch 8/50\n",
            "63/63 [==============================] - 8s 119ms/step - loss: 0.6334 - accuracy: 0.6495 - val_loss: 0.6296 - val_accuracy: 0.6580\n",
            "Epoch 9/50\n",
            "63/63 [==============================] - 8s 118ms/step - loss: 0.6186 - accuracy: 0.6730 - val_loss: 0.6060 - val_accuracy: 0.6980\n",
            "Epoch 10/50\n",
            "63/63 [==============================] - 8s 118ms/step - loss: 0.6034 - accuracy: 0.6850 - val_loss: 0.6114 - val_accuracy: 0.6600\n",
            "Epoch 11/50\n",
            "63/63 [==============================] - 8s 117ms/step - loss: 0.5870 - accuracy: 0.7005 - val_loss: 0.6354 - val_accuracy: 0.6220\n",
            "Epoch 12/50\n",
            "63/63 [==============================] - 8s 120ms/step - loss: 0.5825 - accuracy: 0.7025 - val_loss: 0.5729 - val_accuracy: 0.7010\n",
            "Epoch 13/50\n",
            "63/63 [==============================] - 8s 119ms/step - loss: 0.5592 - accuracy: 0.7215 - val_loss: 0.5349 - val_accuracy: 0.7300\n",
            "Epoch 14/50\n",
            "63/63 [==============================] - 8s 116ms/step - loss: 0.5374 - accuracy: 0.7355 - val_loss: 0.6187 - val_accuracy: 0.6530\n",
            "Epoch 15/50\n",
            "63/63 [==============================] - 8s 120ms/step - loss: 0.5452 - accuracy: 0.7230 - val_loss: 0.5230 - val_accuracy: 0.7410\n",
            "Epoch 16/50\n",
            "63/63 [==============================] - 8s 119ms/step - loss: 0.5234 - accuracy: 0.7275 - val_loss: 0.5063 - val_accuracy: 0.7430\n",
            "Epoch 17/50\n",
            "63/63 [==============================] - 8s 120ms/step - loss: 0.5441 - accuracy: 0.7130 - val_loss: 0.4926 - val_accuracy: 0.7590\n",
            "Epoch 18/50\n",
            "63/63 [==============================] - 8s 119ms/step - loss: 0.5144 - accuracy: 0.7385 - val_loss: 0.4750 - val_accuracy: 0.7590\n",
            "Epoch 19/50\n",
            "63/63 [==============================] - 8s 118ms/step - loss: 0.5230 - accuracy: 0.7350 - val_loss: 0.4977 - val_accuracy: 0.7550\n",
            "Epoch 20/50\n",
            "63/63 [==============================] - 8s 120ms/step - loss: 0.4999 - accuracy: 0.7630 - val_loss: 0.4888 - val_accuracy: 0.7680\n",
            "Epoch 21/50\n",
            "63/63 [==============================] - 8s 118ms/step - loss: 0.4755 - accuracy: 0.7730 - val_loss: 0.4682 - val_accuracy: 0.7730\n",
            "Epoch 22/50\n",
            "63/63 [==============================] - 8s 117ms/step - loss: 0.4706 - accuracy: 0.7790 - val_loss: 0.4724 - val_accuracy: 0.7620\n",
            "Epoch 23/50\n",
            "63/63 [==============================] - 8s 117ms/step - loss: 0.4616 - accuracy: 0.7810 - val_loss: 0.4765 - val_accuracy: 0.7660\n",
            "Epoch 24/50\n",
            "63/63 [==============================] - 8s 119ms/step - loss: 0.4534 - accuracy: 0.7880 - val_loss: 0.4483 - val_accuracy: 0.7880\n",
            "Epoch 25/50\n",
            "63/63 [==============================] - 8s 117ms/step - loss: 0.4450 - accuracy: 0.7930 - val_loss: 0.4487 - val_accuracy: 0.7870\n",
            "Epoch 26/50\n",
            "63/63 [==============================] - 8s 118ms/step - loss: 0.4487 - accuracy: 0.7940 - val_loss: 0.4498 - val_accuracy: 0.7840\n",
            "Epoch 27/50\n",
            "63/63 [==============================] - 8s 119ms/step - loss: 0.4281 - accuracy: 0.8000 - val_loss: 0.4413 - val_accuracy: 0.7900\n",
            "Epoch 28/50\n",
            "63/63 [==============================] - 8s 118ms/step - loss: 0.4260 - accuracy: 0.7990 - val_loss: 0.4305 - val_accuracy: 0.7940\n",
            "Epoch 29/50\n",
            "63/63 [==============================] - 8s 118ms/step - loss: 0.4293 - accuracy: 0.8055 - val_loss: 0.5770 - val_accuracy: 0.7490\n",
            "Epoch 30/50\n",
            "63/63 [==============================] - 8s 118ms/step - loss: 0.4340 - accuracy: 0.8010 - val_loss: 0.4683 - val_accuracy: 0.7730\n",
            "Epoch 31/50\n",
            "63/63 [==============================] - 8s 118ms/step - loss: 0.3918 - accuracy: 0.8160 - val_loss: 0.4560 - val_accuracy: 0.7960\n",
            "Epoch 32/50\n",
            "63/63 [==============================] - 8s 118ms/step - loss: 0.4004 - accuracy: 0.8245 - val_loss: 0.4506 - val_accuracy: 0.7920\n",
            "Epoch 33/50\n",
            "63/63 [==============================] - 9s 131ms/step - loss: 0.3707 - accuracy: 0.8320 - val_loss: 0.4402 - val_accuracy: 0.8060\n",
            "Epoch 34/50\n",
            "63/63 [==============================] - 8s 117ms/step - loss: 0.3648 - accuracy: 0.8380 - val_loss: 0.4714 - val_accuracy: 0.8050\n",
            "Epoch 35/50\n",
            "63/63 [==============================] - 8s 117ms/step - loss: 0.3595 - accuracy: 0.8415 - val_loss: 0.4416 - val_accuracy: 0.8050\n",
            "Epoch 36/50\n",
            "63/63 [==============================] - 8s 118ms/step - loss: 0.3857 - accuracy: 0.8295 - val_loss: 0.5098 - val_accuracy: 0.7710\n",
            "Epoch 37/50\n",
            "63/63 [==============================] - 8s 118ms/step - loss: 0.3737 - accuracy: 0.8410 - val_loss: 0.5007 - val_accuracy: 0.7670\n",
            "Epoch 38/50\n",
            "63/63 [==============================] - 8s 119ms/step - loss: 0.3485 - accuracy: 0.8520 - val_loss: 0.4262 - val_accuracy: 0.8110\n",
            "Epoch 39/50\n",
            "63/63 [==============================] - 8s 116ms/step - loss: 0.3454 - accuracy: 0.8450 - val_loss: 0.5286 - val_accuracy: 0.7770\n",
            "Epoch 40/50\n",
            "63/63 [==============================] - 8s 118ms/step - loss: 0.3199 - accuracy: 0.8625 - val_loss: 0.4523 - val_accuracy: 0.7980\n",
            "Epoch 41/50\n",
            "63/63 [==============================] - 8s 119ms/step - loss: 0.3247 - accuracy: 0.8685 - val_loss: 0.4260 - val_accuracy: 0.8150\n",
            "Epoch 42/50\n",
            "63/63 [==============================] - 8s 118ms/step - loss: 0.3449 - accuracy: 0.8470 - val_loss: 0.4482 - val_accuracy: 0.7940\n",
            "Epoch 43/50\n",
            "63/63 [==============================] - 8s 118ms/step - loss: 0.3243 - accuracy: 0.8520 - val_loss: 0.4563 - val_accuracy: 0.7910\n",
            "Epoch 44/50\n",
            "63/63 [==============================] - 8s 119ms/step - loss: 0.3145 - accuracy: 0.8645 - val_loss: 0.4130 - val_accuracy: 0.8270\n",
            "Epoch 45/50\n",
            "63/63 [==============================] - 8s 117ms/step - loss: 0.3141 - accuracy: 0.8685 - val_loss: 0.5302 - val_accuracy: 0.7830\n",
            "Epoch 46/50\n",
            "63/63 [==============================] - 8s 118ms/step - loss: 0.2969 - accuracy: 0.8655 - val_loss: 0.4422 - val_accuracy: 0.8240\n",
            "Epoch 47/50\n",
            "63/63 [==============================] - 8s 118ms/step - loss: 0.2860 - accuracy: 0.8660 - val_loss: 0.4844 - val_accuracy: 0.8090\n",
            "Epoch 48/50\n",
            "63/63 [==============================] - 8s 119ms/step - loss: 0.2820 - accuracy: 0.8795 - val_loss: 0.4489 - val_accuracy: 0.8180\n",
            "Epoch 49/50\n",
            "63/63 [==============================] - 8s 117ms/step - loss: 0.2852 - accuracy: 0.8780 - val_loss: 0.5501 - val_accuracy: 0.7750\n",
            "Epoch 50/50\n",
            "63/63 [==============================] - 8s 117ms/step - loss: 0.2895 - accuracy: 0.8740 - val_loss: 0.4131 - val_accuracy: 0.8290\n"
          ]
        }
      ],
      "source": [
        "callbacks = [\n",
        "    keras.callbacks.ModelCheckpoint(\n",
        "        filepath=\"convnet_from_scratch_with_augmentation1.keras\",\n",
        "        save_best_only=True,\n",
        "        monitor=\"val_loss\")\n",
        "]\n",
        "history = model.fit(\n",
        "    train_dataset,\n",
        "    epochs=50,\n",
        "    validation_data=validation_dataset,\n",
        "    callbacks=callbacks)"
      ]
    },
    {
      "cell_type": "code",
      "execution_count": null,
      "metadata": {
        "id": "ID8eNzGJQj_c",
        "colab": {
          "base_uri": "https://localhost:8080/"
        },
        "outputId": "a363b742-2993-4f91-87e8-7980902610d2"
      },
      "outputs": [
        {
          "output_type": "stream",
          "name": "stdout",
          "text": [
            "32/32 [==============================] - 2s 49ms/step - loss: 0.4402 - accuracy: 0.8060\n",
            "Test accuracy: 0.806\n"
          ]
        }
      ],
      "source": [
        "test_model = keras.models.load_model(\n",
        "    \"convnet_from_scratch_with_augmentation1.keras\")\n",
        "test_loss, test_acc = test_model.evaluate(test_dataset)\n",
        "print(f\"Test accuracy: {test_acc:.3f}\")"
      ]
    },
    {
      "cell_type": "markdown",
      "source": [
        "## Training accuracy of 87% and validation accuracy of 82% and test accuracy 80.6%\n"
      ],
      "metadata": {
        "id": "0MaeJIBzKlDA"
      }
    },
    {
      "cell_type": "markdown",
      "metadata": {
        "id": "oxej32UyQxTG"
      },
      "source": [
        "## Question 4\n",
        "## Repeat Steps 1-3, but now using a pretrained network. The sample sizes you use in Steps 2 and 3 for the pretrained network may be the same or different from those using the network where you trained from scratch. Again, use any and all optimization techniques to get best performance.  "
      ]
    },
    {
      "cell_type": "markdown",
      "metadata": {
        "id": "qeTm1wBxFmKq"
      },
      "source": [
        "## Leveraging a pretrained model"
      ]
    },
    {
      "cell_type": "markdown",
      "metadata": {
        "id": "LqQ_MjiyFmKq"
      },
      "source": [
        "### Feature extraction with a pretrained model"
      ]
    },
    {
      "cell_type": "markdown",
      "metadata": {
        "id": "8v3sxN6KFmKq"
      },
      "source": [
        "**Instantiating the VGG16 convolutional base**"
      ]
    },
    {
      "cell_type": "code",
      "execution_count": null,
      "metadata": {
        "id": "_0zlPwC9FmKq",
        "colab": {
          "base_uri": "https://localhost:8080/"
        },
        "outputId": "fdd45080-5dad-4cec-ea7a-3aa676e0dab5"
      },
      "outputs": [
        {
          "output_type": "stream",
          "name": "stdout",
          "text": [
            "Downloading data from https://storage.googleapis.com/tensorflow/keras-applications/vgg16/vgg16_weights_tf_dim_ordering_tf_kernels_notop.h5\n",
            "58892288/58889256 [==============================] - 1s 0us/step\n",
            "58900480/58889256 [==============================] - 1s 0us/step\n"
          ]
        }
      ],
      "source": [
        "conv_base = keras.applications.vgg16.VGG16(\n",
        "    weights=\"imagenet\",\n",
        "    include_top=False,\n",
        "    input_shape=(180, 180, 3))"
      ]
    },
    {
      "cell_type": "code",
      "execution_count": null,
      "metadata": {
        "id": "S3gM7hR_FmKq",
        "colab": {
          "base_uri": "https://localhost:8080/"
        },
        "outputId": "0c959468-aca2-4877-9e69-b147b4e5ad72"
      },
      "outputs": [
        {
          "output_type": "stream",
          "name": "stdout",
          "text": [
            "Model: \"vgg16\"\n",
            "_________________________________________________________________\n",
            " Layer (type)                Output Shape              Param #   \n",
            "=================================================================\n",
            " input_4 (InputLayer)        [(None, 180, 180, 3)]     0         \n",
            "                                                                 \n",
            " block1_conv1 (Conv2D)       (None, 180, 180, 64)      1792      \n",
            "                                                                 \n",
            " block1_conv2 (Conv2D)       (None, 180, 180, 64)      36928     \n",
            "                                                                 \n",
            " block1_pool (MaxPooling2D)  (None, 90, 90, 64)        0         \n",
            "                                                                 \n",
            " block2_conv1 (Conv2D)       (None, 90, 90, 128)       73856     \n",
            "                                                                 \n",
            " block2_conv2 (Conv2D)       (None, 90, 90, 128)       147584    \n",
            "                                                                 \n",
            " block2_pool (MaxPooling2D)  (None, 45, 45, 128)       0         \n",
            "                                                                 \n",
            " block3_conv1 (Conv2D)       (None, 45, 45, 256)       295168    \n",
            "                                                                 \n",
            " block3_conv2 (Conv2D)       (None, 45, 45, 256)       590080    \n",
            "                                                                 \n",
            " block3_conv3 (Conv2D)       (None, 45, 45, 256)       590080    \n",
            "                                                                 \n",
            " block3_pool (MaxPooling2D)  (None, 22, 22, 256)       0         \n",
            "                                                                 \n",
            " block4_conv1 (Conv2D)       (None, 22, 22, 512)       1180160   \n",
            "                                                                 \n",
            " block4_conv2 (Conv2D)       (None, 22, 22, 512)       2359808   \n",
            "                                                                 \n",
            " block4_conv3 (Conv2D)       (None, 22, 22, 512)       2359808   \n",
            "                                                                 \n",
            " block4_pool (MaxPooling2D)  (None, 11, 11, 512)       0         \n",
            "                                                                 \n",
            " block5_conv1 (Conv2D)       (None, 11, 11, 512)       2359808   \n",
            "                                                                 \n",
            " block5_conv2 (Conv2D)       (None, 11, 11, 512)       2359808   \n",
            "                                                                 \n",
            " block5_conv3 (Conv2D)       (None, 11, 11, 512)       2359808   \n",
            "                                                                 \n",
            " block5_pool (MaxPooling2D)  (None, 5, 5, 512)         0         \n",
            "                                                                 \n",
            "=================================================================\n",
            "Total params: 14,714,688\n",
            "Trainable params: 14,714,688\n",
            "Non-trainable params: 0\n",
            "_________________________________________________________________\n"
          ]
        }
      ],
      "source": [
        "conv_base.summary()"
      ]
    },
    {
      "cell_type": "markdown",
      "metadata": {
        "id": "shePpPlzFmKq"
      },
      "source": [
        "#### Fast feature extraction without data augmentation"
      ]
    },
    {
      "cell_type": "markdown",
      "metadata": {
        "id": "r8dEefQGFmKq"
      },
      "source": [
        "**Extracting the VGG16 features and corresponding labels**"
      ]
    },
    {
      "cell_type": "code",
      "execution_count": null,
      "metadata": {
        "id": "xaxDUlpcFmKr"
      },
      "outputs": [],
      "source": [
        "import numpy as np\n",
        "\n",
        "def get_features_and_labels(dataset):\n",
        "    all_features = []\n",
        "    all_labels = []\n",
        "    for images, labels in dataset:\n",
        "        preprocessed_images = keras.applications.vgg16.preprocess_input(images)\n",
        "        features = conv_base.predict(preprocessed_images)\n",
        "        all_features.append(features)\n",
        "        all_labels.append(labels)\n",
        "    return np.concatenate(all_features), np.concatenate(all_labels)\n",
        "\n",
        "train_features, train_labels =  get_features_and_labels(train_dataset)\n",
        "val_features, val_labels =  get_features_and_labels(validation_dataset)\n",
        "test_features, test_labels =  get_features_and_labels(test_dataset)"
      ]
    },
    {
      "cell_type": "code",
      "execution_count": null,
      "metadata": {
        "id": "Ldp7pW_cFmKr",
        "colab": {
          "base_uri": "https://localhost:8080/"
        },
        "outputId": "0f76b561-5f75-4d27-ef05-ff8715d135f8"
      },
      "outputs": [
        {
          "output_type": "execute_result",
          "data": {
            "text/plain": [
              "(2000, 5, 5, 512)"
            ]
          },
          "metadata": {},
          "execution_count": 33
        }
      ],
      "source": [
        "train_features.shape"
      ]
    },
    {
      "cell_type": "markdown",
      "metadata": {
        "id": "wldjtbBQFmKr"
      },
      "source": [
        "**Defining and training the densely connected classifier**"
      ]
    },
    {
      "cell_type": "code",
      "execution_count": null,
      "metadata": {
        "id": "HSbNa3KWFmKr",
        "colab": {
          "base_uri": "https://localhost:8080/"
        },
        "outputId": "7eea4f5b-ce09-4ebe-e6cd-e84f2c488d8c"
      },
      "outputs": [
        {
          "output_type": "stream",
          "name": "stdout",
          "text": [
            "Epoch 1/20\n",
            "63/63 [==============================] - 1s 13ms/step - loss: 22.9329 - accuracy: 0.9220 - val_loss: 4.6889 - val_accuracy: 0.9710\n",
            "Epoch 2/20\n",
            "63/63 [==============================] - 1s 9ms/step - loss: 2.9064 - accuracy: 0.9780 - val_loss: 5.2913 - val_accuracy: 0.9570\n",
            "Epoch 3/20\n",
            "63/63 [==============================] - 1s 10ms/step - loss: 2.7124 - accuracy: 0.9780 - val_loss: 3.6050 - val_accuracy: 0.9780\n",
            "Epoch 4/20\n",
            "63/63 [==============================] - 1s 9ms/step - loss: 1.5633 - accuracy: 0.9910 - val_loss: 7.5881 - val_accuracy: 0.9650\n",
            "Epoch 5/20\n",
            "63/63 [==============================] - 1s 9ms/step - loss: 1.2595 - accuracy: 0.9885 - val_loss: 5.4365 - val_accuracy: 0.9670\n",
            "Epoch 6/20\n",
            "63/63 [==============================] - 1s 9ms/step - loss: 0.5671 - accuracy: 0.9930 - val_loss: 4.8845 - val_accuracy: 0.9730\n",
            "Epoch 7/20\n",
            "63/63 [==============================] - 1s 9ms/step - loss: 0.5115 - accuracy: 0.9960 - val_loss: 7.0789 - val_accuracy: 0.9690\n",
            "Epoch 8/20\n",
            "63/63 [==============================] - 1s 11ms/step - loss: 0.4558 - accuracy: 0.9945 - val_loss: 5.1826 - val_accuracy: 0.9730\n",
            "Epoch 9/20\n",
            "63/63 [==============================] - 1s 10ms/step - loss: 0.1865 - accuracy: 0.9990 - val_loss: 6.7700 - val_accuracy: 0.9700\n",
            "Epoch 10/20\n",
            "63/63 [==============================] - 1s 10ms/step - loss: 0.5922 - accuracy: 0.9965 - val_loss: 5.7406 - val_accuracy: 0.9750\n",
            "Epoch 11/20\n",
            "63/63 [==============================] - 1s 10ms/step - loss: 0.1466 - accuracy: 0.9980 - val_loss: 5.6571 - val_accuracy: 0.9760\n",
            "Epoch 12/20\n",
            "63/63 [==============================] - 1s 10ms/step - loss: 0.2629 - accuracy: 0.9975 - val_loss: 5.0357 - val_accuracy: 0.9800\n",
            "Epoch 13/20\n",
            "63/63 [==============================] - 1s 10ms/step - loss: 0.2554 - accuracy: 0.9970 - val_loss: 4.9074 - val_accuracy: 0.9790\n",
            "Epoch 14/20\n",
            "63/63 [==============================] - 1s 10ms/step - loss: 0.2329 - accuracy: 0.9980 - val_loss: 4.7675 - val_accuracy: 0.9780\n",
            "Epoch 15/20\n",
            "63/63 [==============================] - 1s 10ms/step - loss: 0.6902 - accuracy: 0.9965 - val_loss: 5.1802 - val_accuracy: 0.9760\n",
            "Epoch 16/20\n",
            "63/63 [==============================] - 1s 10ms/step - loss: 0.0265 - accuracy: 0.9990 - val_loss: 4.9661 - val_accuracy: 0.9750\n",
            "Epoch 17/20\n",
            "63/63 [==============================] - 1s 10ms/step - loss: 0.0288 - accuracy: 0.9990 - val_loss: 5.0225 - val_accuracy: 0.9740\n",
            "Epoch 18/20\n",
            "63/63 [==============================] - 1s 10ms/step - loss: 0.1098 - accuracy: 0.9980 - val_loss: 5.3769 - val_accuracy: 0.9780\n",
            "Epoch 19/20\n",
            "63/63 [==============================] - 1s 10ms/step - loss: 0.0000e+00 - accuracy: 1.0000 - val_loss: 5.3769 - val_accuracy: 0.9780\n",
            "Epoch 20/20\n",
            "63/63 [==============================] - 1s 10ms/step - loss: 0.1251 - accuracy: 0.9980 - val_loss: 5.4269 - val_accuracy: 0.9780\n"
          ]
        }
      ],
      "source": [
        "inputs = keras.Input(shape=(5, 5, 512))\n",
        "x = layers.Flatten()(inputs)\n",
        "x = layers.Dense(256)(x)\n",
        "x = layers.Dropout(0.5)(x)\n",
        "outputs = layers.Dense(1, activation=\"sigmoid\")(x)\n",
        "model = keras.Model(inputs, outputs)\n",
        "model.compile(loss=\"binary_crossentropy\",\n",
        "              optimizer=\"rmsprop\",\n",
        "              metrics=[\"accuracy\"])\n",
        "\n",
        "callbacks = [\n",
        "    keras.callbacks.ModelCheckpoint(\n",
        "      filepath=\"feature_extraction.keras\",\n",
        "      save_best_only=True,\n",
        "      monitor=\"val_loss\")\n",
        "]\n",
        "history = model.fit(\n",
        "    train_features, train_labels,\n",
        "    epochs=20,\n",
        "    validation_data=(val_features, val_labels),\n",
        "    callbacks=callbacks)"
      ]
    },
    {
      "cell_type": "markdown",
      "metadata": {
        "id": "Q9InbktyFmKr"
      },
      "source": [
        "**Plotting the results**"
      ]
    },
    {
      "cell_type": "code",
      "execution_count": null,
      "metadata": {
        "id": "2FnrW-pFFmKr",
        "colab": {
          "base_uri": "https://localhost:8080/",
          "height": 545
        },
        "outputId": "e7a74d3e-d026-45fb-8e7f-111c89394621"
      },
      "outputs": [
        {
          "output_type": "display_data",
          "data": {
            "text/plain": [
              "<Figure size 432x288 with 1 Axes>"
            ],
            "image/png": "[encoded data removed]"
          },
          "metadata": {
            "needs_background": "light"
          }
        },
        {
          "output_type": "display_data",
          "data": {
            "text/plain": [
              "<Figure size 432x288 with 1 Axes>"
            ],
            "image/png": "[encoded data removed]"
          },
          "metadata": {
            "needs_background": "light"
          }
        }
      ],
      "source": [
        "import matplotlib.pyplot as plt\n",
        "acc = history.history[\"accuracy\"]\n",
        "val_acc = history.history[\"val_accuracy\"]\n",
        "loss = history.history[\"loss\"]\n",
        "val_loss = history.history[\"val_loss\"]\n",
        "epochs = range(1, len(acc) + 1)\n",
        "plt.plot(epochs, acc, \"bo\", label=\"Training accuracy\")\n",
        "plt.plot(epochs, val_acc, \"b\", label=\"Validation accuracy\")\n",
        "plt.title(\"Training and validation accuracy\")\n",
        "plt.legend()\n",
        "plt.figure()\n",
        "plt.plot(epochs, loss, \"bo\", label=\"Training loss\")\n",
        "plt.plot(epochs, val_loss, \"b\", label=\"Validation loss\")\n",
        "plt.title(\"Training and validation loss\")\n",
        "plt.legend()\n",
        "plt.show()"
      ]
    },
    {
      "cell_type": "markdown",
      "metadata": {
        "id": "CJLrrpxaFmKr"
      },
      "source": [
        "#### Feature extraction together with data augmentation"
      ]
    },
    {
      "cell_type": "markdown",
      "metadata": {
        "id": "nn8oG_iYFmKs"
      },
      "source": [
        "**Instantiating and freezing the VGG16 convolutional base**"
      ]
    },
    {
      "cell_type": "code",
      "execution_count": null,
      "metadata": {
        "id": "xIUDHtOzFmKs"
      },
      "outputs": [],
      "source": [
        "conv_base  = keras.applications.vgg16.VGG16(\n",
        "    weights=\"imagenet\",\n",
        "    include_top=False)\n",
        "conv_base.trainable = False"
      ]
    },
    {
      "cell_type": "markdown",
      "metadata": {
        "id": "ItSIsvtgFmKs"
      },
      "source": [
        "**Printing the list of trainable weights before and after freezing**"
      ]
    },
    {
      "cell_type": "code",
      "execution_count": null,
      "metadata": {
        "id": "bbKzoi7qFmKs",
        "colab": {
          "base_uri": "https://localhost:8080/"
        },
        "outputId": "37f5bccd-65aa-420a-8693-43de6a959e3f"
      },
      "outputs": [
        {
          "output_type": "stream",
          "name": "stdout",
          "text": [
            "This is the number of trainable weights before freezing the conv base: 26\n"
          ]
        }
      ],
      "source": [
        "conv_base.trainable = True\n",
        "print(\"This is the number of trainable weights \"\n",
        "      \"before freezing the conv base:\", len(conv_base.trainable_weights))"
      ]
    },
    {
      "cell_type": "code",
      "execution_count": null,
      "metadata": {
        "id": "ELV1FK-tFmKs",
        "colab": {
          "base_uri": "https://localhost:8080/"
        },
        "outputId": "f96ccff5-cd70-4cfa-8fb0-adf954df8e00"
      },
      "outputs": [
        {
          "output_type": "stream",
          "name": "stdout",
          "text": [
            "This is the number of trainable weights after freezing the conv base: 0\n"
          ]
        }
      ],
      "source": [
        "conv_base.trainable = False\n",
        "print(\"This is the number of trainable weights \"\n",
        "      \"after freezing the conv base:\", len(conv_base.trainable_weights))"
      ]
    },
    {
      "cell_type": "markdown",
      "metadata": {
        "id": "U9I3_JrgFmKs"
      },
      "source": [
        "**Adding a data augmentation stage and a classifier to the convolutional base**"
      ]
    },
    {
      "cell_type": "code",
      "execution_count": null,
      "metadata": {
        "id": "X-ZLfbFtFmKs"
      },
      "outputs": [],
      "source": [
        "data_augmentation = keras.Sequential(\n",
        "    [\n",
        "        layers.RandomFlip(\"horizontal\"),\n",
        "        layers.RandomRotation(0.1),\n",
        "        layers.RandomZoom(0.2),\n",
        "    ]\n",
        ")\n",
        "\n",
        "inputs = keras.Input(shape=(180, 180, 3))\n",
        "x = data_augmentation(inputs)\n",
        "x = keras.applications.vgg16.preprocess_input(x)\n",
        "x = conv_base(x)\n",
        "x = layers.Flatten()(x)\n",
        "x = layers.Dense(256)(x)\n",
        "x = layers.Dropout(0.5)(x)\n",
        "outputs = layers.Dense(1, activation=\"sigmoid\")(x)\n",
        "model = keras.Model(inputs, outputs)\n",
        "model.compile(loss=\"binary_crossentropy\",\n",
        "              optimizer=\"rmsprop\",\n",
        "              metrics=[\"accuracy\"])"
      ]
    },
    {
      "cell_type": "code",
      "execution_count": null,
      "metadata": {
        "id": "rDCC-FTSFmKs",
        "colab": {
          "base_uri": "https://localhost:8080/"
        },
        "outputId": "773a3d5c-d858-44df-d294-07ad40ed5960"
      },
      "outputs": [
        {
          "output_type": "stream",
          "name": "stdout",
          "text": [
            "Epoch 1/50\n",
            "63/63 [==============================] - 24s 340ms/step - loss: 22.5505 - accuracy: 0.8965 - val_loss: 3.0919 - val_accuracy: 0.9750\n",
            "Epoch 2/50\n",
            "63/63 [==============================] - 21s 332ms/step - loss: 7.6918 - accuracy: 0.9425 - val_loss: 3.8874 - val_accuracy: 0.9680\n",
            "Epoch 3/50\n",
            "63/63 [==============================] - 21s 332ms/step - loss: 5.4941 - accuracy: 0.9540 - val_loss: 4.9491 - val_accuracy: 0.9700\n",
            "Epoch 4/50\n",
            "63/63 [==============================] - 21s 332ms/step - loss: 4.3427 - accuracy: 0.9610 - val_loss: 4.1436 - val_accuracy: 0.9750\n",
            "Epoch 5/50\n",
            "63/63 [==============================] - 21s 332ms/step - loss: 3.7742 - accuracy: 0.9670 - val_loss: 3.4149 - val_accuracy: 0.9760\n",
            "Epoch 6/50\n",
            "63/63 [==============================] - 21s 336ms/step - loss: 3.8642 - accuracy: 0.9630 - val_loss: 2.6794 - val_accuracy: 0.9780\n",
            "Epoch 7/50\n",
            "63/63 [==============================] - 21s 337ms/step - loss: 3.3282 - accuracy: 0.9690 - val_loss: 1.9542 - val_accuracy: 0.9760\n",
            "Epoch 8/50\n",
            "63/63 [==============================] - 21s 332ms/step - loss: 2.9439 - accuracy: 0.9660 - val_loss: 2.7605 - val_accuracy: 0.9810\n",
            "Epoch 9/50\n",
            "63/63 [==============================] - 21s 332ms/step - loss: 2.8015 - accuracy: 0.9690 - val_loss: 2.2316 - val_accuracy: 0.9800\n",
            "Epoch 10/50\n",
            "63/63 [==============================] - 21s 332ms/step - loss: 2.3750 - accuracy: 0.9760 - val_loss: 4.7067 - val_accuracy: 0.9680\n",
            "Epoch 11/50\n",
            "63/63 [==============================] - 21s 332ms/step - loss: 1.9138 - accuracy: 0.9755 - val_loss: 2.3915 - val_accuracy: 0.9760\n",
            "Epoch 12/50\n",
            "63/63 [==============================] - 21s 332ms/step - loss: 2.4321 - accuracy: 0.9715 - val_loss: 3.6472 - val_accuracy: 0.9700\n",
            "Epoch 13/50\n",
            "63/63 [==============================] - 21s 332ms/step - loss: 1.8100 - accuracy: 0.9760 - val_loss: 2.7280 - val_accuracy: 0.9780\n",
            "Epoch 14/50\n",
            "63/63 [==============================] - 21s 332ms/step - loss: 1.9744 - accuracy: 0.9790 - val_loss: 3.1785 - val_accuracy: 0.9740\n",
            "Epoch 15/50\n",
            "63/63 [==============================] - 21s 332ms/step - loss: 2.5411 - accuracy: 0.9730 - val_loss: 2.8095 - val_accuracy: 0.9720\n",
            "Epoch 16/50\n",
            "63/63 [==============================] - 21s 331ms/step - loss: 1.6717 - accuracy: 0.9820 - val_loss: 2.9960 - val_accuracy: 0.9750\n",
            "Epoch 17/50\n",
            "63/63 [==============================] - 21s 332ms/step - loss: 1.8202 - accuracy: 0.9765 - val_loss: 2.1056 - val_accuracy: 0.9790\n",
            "Epoch 18/50\n",
            "63/63 [==============================] - 21s 332ms/step - loss: 1.2185 - accuracy: 0.9820 - val_loss: 2.6550 - val_accuracy: 0.9760\n",
            "Epoch 19/50\n",
            "63/63 [==============================] - 21s 332ms/step - loss: 0.9714 - accuracy: 0.9845 - val_loss: 3.3694 - val_accuracy: 0.9740\n",
            "Epoch 20/50\n",
            "63/63 [==============================] - 21s 332ms/step - loss: 1.0064 - accuracy: 0.9820 - val_loss: 3.2765 - val_accuracy: 0.9720\n",
            "Epoch 21/50\n",
            "63/63 [==============================] - 21s 332ms/step - loss: 0.6249 - accuracy: 0.9875 - val_loss: 2.8746 - val_accuracy: 0.9720\n",
            "Epoch 22/50\n",
            "63/63 [==============================] - 21s 337ms/step - loss: 0.9194 - accuracy: 0.9825 - val_loss: 1.9161 - val_accuracy: 0.9790\n",
            "Epoch 23/50\n",
            "63/63 [==============================] - 21s 336ms/step - loss: 1.1450 - accuracy: 0.9795 - val_loss: 1.1587 - val_accuracy: 0.9840\n",
            "Epoch 24/50\n",
            "63/63 [==============================] - 21s 333ms/step - loss: 0.7839 - accuracy: 0.9815 - val_loss: 1.5317 - val_accuracy: 0.9800\n",
            "Epoch 25/50\n",
            "63/63 [==============================] - 21s 332ms/step - loss: 0.7075 - accuracy: 0.9865 - val_loss: 1.5976 - val_accuracy: 0.9780\n",
            "Epoch 26/50\n",
            "63/63 [==============================] - 21s 333ms/step - loss: 1.3895 - accuracy: 0.9800 - val_loss: 2.7306 - val_accuracy: 0.9760\n",
            "Epoch 27/50\n",
            "63/63 [==============================] - 21s 333ms/step - loss: 0.6940 - accuracy: 0.9880 - val_loss: 1.6635 - val_accuracy: 0.9820\n",
            "Epoch 28/50\n",
            "63/63 [==============================] - 21s 332ms/step - loss: 0.5947 - accuracy: 0.9880 - val_loss: 1.9739 - val_accuracy: 0.9790\n",
            "Epoch 29/50\n",
            "63/63 [==============================] - 21s 333ms/step - loss: 1.2150 - accuracy: 0.9775 - val_loss: 1.8477 - val_accuracy: 0.9780\n",
            "Epoch 30/50\n",
            "63/63 [==============================] - 21s 332ms/step - loss: 0.6142 - accuracy: 0.9875 - val_loss: 2.6296 - val_accuracy: 0.9750\n",
            "Epoch 31/50\n",
            "63/63 [==============================] - 21s 332ms/step - loss: 1.0104 - accuracy: 0.9835 - val_loss: 2.2428 - val_accuracy: 0.9780\n",
            "Epoch 32/50\n",
            "63/63 [==============================] - 21s 333ms/step - loss: 0.5738 - accuracy: 0.9880 - val_loss: 1.3023 - val_accuracy: 0.9830\n",
            "Epoch 33/50\n",
            "63/63 [==============================] - 21s 333ms/step - loss: 1.0647 - accuracy: 0.9815 - val_loss: 2.9184 - val_accuracy: 0.9710\n",
            "Epoch 34/50\n",
            "63/63 [==============================] - 21s 333ms/step - loss: 0.5207 - accuracy: 0.9850 - val_loss: 1.1839 - val_accuracy: 0.9830\n",
            "Epoch 35/50\n",
            "63/63 [==============================] - 21s 333ms/step - loss: 0.4588 - accuracy: 0.9875 - val_loss: 1.6927 - val_accuracy: 0.9830\n",
            "Epoch 36/50\n",
            "63/63 [==============================] - 21s 332ms/step - loss: 0.5387 - accuracy: 0.9865 - val_loss: 3.0702 - val_accuracy: 0.9710\n",
            "Epoch 37/50\n",
            "63/63 [==============================] - 21s 333ms/step - loss: 0.3421 - accuracy: 0.9890 - val_loss: 1.4789 - val_accuracy: 0.9870\n",
            "Epoch 38/50\n",
            "63/63 [==============================] - 21s 333ms/step - loss: 0.4571 - accuracy: 0.9900 - val_loss: 1.6956 - val_accuracy: 0.9830\n",
            "Epoch 39/50\n",
            "63/63 [==============================] - 21s 333ms/step - loss: 0.5840 - accuracy: 0.9880 - val_loss: 1.5724 - val_accuracy: 0.9810\n",
            "Epoch 40/50\n",
            "63/63 [==============================] - 21s 333ms/step - loss: 0.5993 - accuracy: 0.9865 - val_loss: 2.1126 - val_accuracy: 0.9800\n",
            "Epoch 41/50\n",
            "63/63 [==============================] - 21s 333ms/step - loss: 0.6567 - accuracy: 0.9855 - val_loss: 1.8093 - val_accuracy: 0.9790\n",
            "Epoch 42/50\n",
            "63/63 [==============================] - 21s 333ms/step - loss: 0.5428 - accuracy: 0.9875 - val_loss: 1.5261 - val_accuracy: 0.9810\n",
            "Epoch 43/50\n",
            "63/63 [==============================] - 21s 333ms/step - loss: 0.4346 - accuracy: 0.9890 - val_loss: 1.4214 - val_accuracy: 0.9820\n",
            "Epoch 44/50\n",
            "63/63 [==============================] - 21s 333ms/step - loss: 0.5124 - accuracy: 0.9900 - val_loss: 1.6468 - val_accuracy: 0.9790\n",
            "Epoch 45/50\n",
            "63/63 [==============================] - 21s 333ms/step - loss: 0.4814 - accuracy: 0.9870 - val_loss: 1.7025 - val_accuracy: 0.9790\n",
            "Epoch 46/50\n",
            "63/63 [==============================] - 21s 333ms/step - loss: 0.3652 - accuracy: 0.9890 - val_loss: 2.9710 - val_accuracy: 0.9640\n",
            "Epoch 47/50\n",
            "63/63 [==============================] - 21s 333ms/step - loss: 0.3745 - accuracy: 0.9870 - val_loss: 1.6885 - val_accuracy: 0.9750\n",
            "Epoch 48/50\n",
            "63/63 [==============================] - 21s 333ms/step - loss: 0.3923 - accuracy: 0.9895 - val_loss: 2.5406 - val_accuracy: 0.9690\n",
            "Epoch 49/50\n",
            "63/63 [==============================] - 21s 332ms/step - loss: 0.4418 - accuracy: 0.9880 - val_loss: 1.3774 - val_accuracy: 0.9830\n",
            "Epoch 50/50\n",
            "63/63 [==============================] - 21s 333ms/step - loss: 0.2909 - accuracy: 0.9930 - val_loss: 1.4253 - val_accuracy: 0.9820\n"
          ]
        }
      ],
      "source": [
        "callbacks = [\n",
        "    keras.callbacks.ModelCheckpoint(\n",
        "        filepath=\"feature_extraction_with_data_augmentation.keras\",\n",
        "        save_best_only=True,\n",
        "        monitor=\"val_loss\")\n",
        "]\n",
        "history = model.fit(\n",
        "    train_dataset,\n",
        "    epochs=50,\n",
        "    validation_data=validation_dataset,\n",
        "    callbacks=callbacks)"
      ]
    },
    {
      "cell_type": "markdown",
      "metadata": {
        "id": "8FkqN5JqFmKt"
      },
      "source": [
        "**Evaluating the model on the test set**"
      ]
    },
    {
      "cell_type": "code",
      "execution_count": null,
      "metadata": {
        "id": "5om_o2qAFmKt",
        "colab": {
          "base_uri": "https://localhost:8080/"
        },
        "outputId": "f26a5ebb-74be-4ebf-ebd2-e8bca0dc6d1b"
      },
      "outputs": [
        {
          "output_type": "stream",
          "name": "stdout",
          "text": [
            "32/32 [==============================] - 7s 211ms/step - loss: 2.5155 - accuracy: 0.9710\n",
            "Test accuracy: 0.971\n"
          ]
        }
      ],
      "source": [
        "test_model = keras.models.load_model(\n",
        "    \"feature_extraction_with_data_augmentation.keras\")\n",
        "test_loss, test_acc = test_model.evaluate(test_dataset)\n",
        "print(f\"Test accuracy: {test_acc:.3f}\")"
      ]
    },
    {
      "cell_type": "markdown",
      "metadata": {
        "id": "g5jbOFIdFmKt"
      },
      "source": [
        "### Fine-tuning a pretrained model"
      ]
    },
    {
      "cell_type": "code",
      "execution_count": null,
      "metadata": {
        "id": "NwHR5MfWFmKt",
        "colab": {
          "base_uri": "https://localhost:8080/"
        },
        "outputId": "47f8e9df-c766-4e1e-ef47-090e5bc4a2e9"
      },
      "outputs": [
        {
          "output_type": "stream",
          "name": "stdout",
          "text": [
            "Model: \"vgg16\"\n",
            "_________________________________________________________________\n",
            " Layer (type)                Output Shape              Param #   \n",
            "=================================================================\n",
            " input_6 (InputLayer)        [(None, None, None, 3)]   0         \n",
            "                                                                 \n",
            " block1_conv1 (Conv2D)       (None, None, None, 64)    1792      \n",
            "                                                                 \n",
            " block1_conv2 (Conv2D)       (None, None, None, 64)    36928     \n",
            "                                                                 \n",
            " block1_pool (MaxPooling2D)  (None, None, None, 64)    0         \n",
            "                                                                 \n",
            " block2_conv1 (Conv2D)       (None, None, None, 128)   73856     \n",
            "                                                                 \n",
            " block2_conv2 (Conv2D)       (None, None, None, 128)   147584    \n",
            "                                                                 \n",
            " block2_pool (MaxPooling2D)  (None, None, None, 128)   0         \n",
            "                                                                 \n",
            " block3_conv1 (Conv2D)       (None, None, None, 256)   295168    \n",
            "                                                                 \n",
            " block3_conv2 (Conv2D)       (None, None, None, 256)   590080    \n",
            "                                                                 \n",
            " block3_conv3 (Conv2D)       (None, None, None, 256)   590080    \n",
            "                                                                 \n",
            " block3_pool (MaxPooling2D)  (None, None, None, 256)   0         \n",
            "                                                                 \n",
            " block4_conv1 (Conv2D)       (None, None, None, 512)   1180160   \n",
            "                                                                 \n",
            " block4_conv2 (Conv2D)       (None, None, None, 512)   2359808   \n",
            "                                                                 \n",
            " block4_conv3 (Conv2D)       (None, None, None, 512)   2359808   \n",
            "                                                                 \n",
            " block4_pool (MaxPooling2D)  (None, None, None, 512)   0         \n",
            "                                                                 \n",
            " block5_conv1 (Conv2D)       (None, None, None, 512)   2359808   \n",
            "                                                                 \n",
            " block5_conv2 (Conv2D)       (None, None, None, 512)   2359808   \n",
            "                                                                 \n",
            " block5_conv3 (Conv2D)       (None, None, None, 512)   2359808   \n",
            "                                                                 \n",
            " block5_pool (MaxPooling2D)  (None, None, None, 512)   0         \n",
            "                                                                 \n",
            "=================================================================\n",
            "Total params: 14,714,688\n",
            "Trainable params: 0\n",
            "Non-trainable params: 14,714,688\n",
            "_________________________________________________________________\n"
          ]
        }
      ],
      "source": [
        "conv_base.summary()"
      ]
    },
    {
      "cell_type": "markdown",
      "metadata": {
        "id": "v14pmcmvFmKt"
      },
      "source": [
        "**Freezing all layers until the fourth from the last**"
      ]
    },
    {
      "cell_type": "code",
      "execution_count": null,
      "metadata": {
        "id": "IoXiopqQFmKt"
      },
      "outputs": [],
      "source": [
        "conv_base.trainable = True\n",
        "for layer in conv_base.layers[:-4]:\n",
        "    layer.trainable = False"
      ]
    },
    {
      "cell_type": "markdown",
      "metadata": {
        "id": "Ng8HfKlxFmKt"
      },
      "source": [
        "**Fine-tuning the model**"
      ]
    },
    {
      "cell_type": "code",
      "execution_count": null,
      "metadata": {
        "id": "lPjg2-HOFmKu",
        "colab": {
          "base_uri": "https://localhost:8080/"
        },
        "outputId": "e78ac271-9898-4264-ffae-a9f279914b6d"
      },
      "outputs": [
        {
          "output_type": "stream",
          "name": "stdout",
          "text": [
            "Epoch 1/30\n",
            "63/63 [==============================] - 25s 368ms/step - loss: 0.3300 - accuracy: 0.9905 - val_loss: 1.4049 - val_accuracy: 0.9800\n",
            "Epoch 2/30\n",
            "63/63 [==============================] - 23s 366ms/step - loss: 0.2805 - accuracy: 0.9920 - val_loss: 1.2172 - val_accuracy: 0.9790\n",
            "Epoch 3/30\n",
            "63/63 [==============================] - 23s 362ms/step - loss: 0.2345 - accuracy: 0.9915 - val_loss: 1.3018 - val_accuracy: 0.9780\n",
            "Epoch 4/30\n",
            "63/63 [==============================] - 23s 362ms/step - loss: 0.4387 - accuracy: 0.9900 - val_loss: 1.9991 - val_accuracy: 0.9730\n",
            "Epoch 5/30\n",
            "63/63 [==============================] - 23s 361ms/step - loss: 0.3985 - accuracy: 0.9885 - val_loss: 1.3620 - val_accuracy: 0.9830\n",
            "Epoch 6/30\n",
            "63/63 [==============================] - 23s 359ms/step - loss: 0.2479 - accuracy: 0.9925 - val_loss: 1.4333 - val_accuracy: 0.9830\n",
            "Epoch 7/30\n",
            "63/63 [==============================] - 23s 362ms/step - loss: 0.1778 - accuracy: 0.9925 - val_loss: 1.4881 - val_accuracy: 0.9790\n",
            "Epoch 8/30\n",
            "63/63 [==============================] - 23s 360ms/step - loss: 0.1551 - accuracy: 0.9935 - val_loss: 1.7586 - val_accuracy: 0.9750\n",
            "Epoch 9/30\n",
            "63/63 [==============================] - 23s 362ms/step - loss: 0.2940 - accuracy: 0.9940 - val_loss: 1.3634 - val_accuracy: 0.9800\n",
            "Epoch 10/30\n",
            "63/63 [==============================] - 23s 360ms/step - loss: 0.1834 - accuracy: 0.9935 - val_loss: 1.3916 - val_accuracy: 0.9810\n",
            "Epoch 11/30\n",
            "63/63 [==============================] - 23s 360ms/step - loss: 0.1128 - accuracy: 0.9965 - val_loss: 1.7380 - val_accuracy: 0.9760\n",
            "Epoch 12/30\n",
            "63/63 [==============================] - 23s 362ms/step - loss: 0.0880 - accuracy: 0.9940 - val_loss: 1.3253 - val_accuracy: 0.9800\n",
            "Epoch 13/30\n",
            "63/63 [==============================] - 23s 366ms/step - loss: 0.1674 - accuracy: 0.9940 - val_loss: 1.1032 - val_accuracy: 0.9800\n",
            "Epoch 14/30\n",
            "63/63 [==============================] - 23s 360ms/step - loss: 0.1429 - accuracy: 0.9940 - val_loss: 1.4211 - val_accuracy: 0.9770\n",
            "Epoch 15/30\n",
            "63/63 [==============================] - 23s 361ms/step - loss: 0.0908 - accuracy: 0.9940 - val_loss: 1.2523 - val_accuracy: 0.9770\n",
            "Epoch 16/30\n",
            "63/63 [==============================] - 23s 360ms/step - loss: 0.1164 - accuracy: 0.9955 - val_loss: 1.3503 - val_accuracy: 0.9800\n",
            "Epoch 17/30\n",
            "63/63 [==============================] - 23s 360ms/step - loss: 0.1474 - accuracy: 0.9920 - val_loss: 1.2244 - val_accuracy: 0.9780\n",
            "Epoch 18/30\n",
            "63/63 [==============================] - 23s 362ms/step - loss: 0.1492 - accuracy: 0.9950 - val_loss: 1.4099 - val_accuracy: 0.9790\n",
            "Epoch 19/30\n",
            "63/63 [==============================] - 23s 362ms/step - loss: 0.1737 - accuracy: 0.9925 - val_loss: 1.2454 - val_accuracy: 0.9830\n",
            "Epoch 20/30\n",
            "63/63 [==============================] - 23s 365ms/step - loss: 0.0549 - accuracy: 0.9970 - val_loss: 1.0535 - val_accuracy: 0.9820\n",
            "Epoch 21/30\n",
            "63/63 [==============================] - 23s 360ms/step - loss: 0.2136 - accuracy: 0.9935 - val_loss: 1.0987 - val_accuracy: 0.9810\n",
            "Epoch 22/30\n",
            "63/63 [==============================] - 23s 360ms/step - loss: 0.0527 - accuracy: 0.9980 - val_loss: 1.0676 - val_accuracy: 0.9810\n",
            "Epoch 23/30\n",
            "63/63 [==============================] - 23s 361ms/step - loss: 0.1901 - accuracy: 0.9965 - val_loss: 1.1419 - val_accuracy: 0.9790\n",
            "Epoch 24/30\n",
            "63/63 [==============================] - 23s 361ms/step - loss: 0.1207 - accuracy: 0.9940 - val_loss: 1.2117 - val_accuracy: 0.9830\n",
            "Epoch 25/30\n",
            "63/63 [==============================] - 23s 362ms/step - loss: 0.0293 - accuracy: 0.9980 - val_loss: 1.1991 - val_accuracy: 0.9820\n",
            "Epoch 26/30\n",
            "63/63 [==============================] - 23s 363ms/step - loss: 0.0552 - accuracy: 0.9955 - val_loss: 1.2061 - val_accuracy: 0.9800\n",
            "Epoch 27/30\n",
            "63/63 [==============================] - 23s 361ms/step - loss: 0.0814 - accuracy: 0.9955 - val_loss: 1.3479 - val_accuracy: 0.9790\n",
            "Epoch 28/30\n",
            "63/63 [==============================] - 23s 362ms/step - loss: 0.0660 - accuracy: 0.9975 - val_loss: 1.2469 - val_accuracy: 0.9800\n",
            "Epoch 29/30\n",
            "63/63 [==============================] - 23s 362ms/step - loss: 0.0578 - accuracy: 0.9980 - val_loss: 1.2783 - val_accuracy: 0.9800\n",
            "Epoch 30/30\n",
            "63/63 [==============================] - 23s 359ms/step - loss: 0.0760 - accuracy: 0.9955 - val_loss: 1.2326 - val_accuracy: 0.9830\n"
          ]
        }
      ],
      "source": [
        "model.compile(loss=\"binary_crossentropy\",\n",
        "              optimizer=keras.optimizers.RMSprop(learning_rate=1e-5),\n",
        "              metrics=[\"accuracy\"])\n",
        "\n",
        "callbacks = [\n",
        "    keras.callbacks.ModelCheckpoint(\n",
        "        filepath=\"fine_tuning.keras\",\n",
        "        save_best_only=True,\n",
        "        monitor=\"val_loss\")\n",
        "]\n",
        "history = model.fit(\n",
        "    train_dataset,\n",
        "    epochs=30,\n",
        "    validation_data=validation_dataset,\n",
        "    callbacks=callbacks)"
      ]
    },
    {
      "cell_type": "code",
      "execution_count": null,
      "metadata": {
        "id": "7RewyLryFmKu",
        "colab": {
          "base_uri": "https://localhost:8080/"
        },
        "outputId": "76258313-c989-4cb0-db75-bf2cbe7ed65d"
      },
      "outputs": [
        {
          "output_type": "stream",
          "name": "stdout",
          "text": [
            "32/32 [==============================] - 7s 210ms/step - loss: 0.6448 - accuracy: 0.9830\n",
            "Test accuracy: 0.983\n"
          ]
        }
      ],
      "source": [
        "model = keras.models.load_model(\"fine_tuning.keras\")\n",
        "test_loss, test_acc = model.evaluate(test_dataset)\n",
        "print(f\"Test accuracy: {test_acc:.3f}\")"
      ]
    },
    {
      "cell_type": "markdown",
      "metadata": {
        "id": "AwL6HdNbFmKu"
      },
      "source": [
        "## Summary\n",
        "\n",
        "Initially I have taken a small convnet of 1000 trainng samples and validation and test sample size of 500 each and there is no optimization. So, the accuracy is just 70.3% due to overfitting. Later, we have introduced data augmentation,early stopping, dropout and the accuracy raised to 80.6%. Increasing the tranining sample size with augmentation helped in getting better accuracy.\n",
        "\n",
        "Pretrained model without augmentation\n",
        "A pretrained model gives more accuracy than the model which is built from scratch. Here we got validation accuracy of 97.8% which is far better than that we got from building a model from scratch. \n",
        "\n",
        "Pretrained model with augmentation\n",
        "Here the validation accuracy slightly increased from 97.8% to 98.2%\n",
        "\n",
        "Using predefined model with fine tuning gave 98.3% test accuracy."
      ]
    }
  ],
  "metadata": {
    "accelerator": "GPU",
    "colab": {
      "collapsed_sections": [],
      "name": "Assignment2.i",
      "provenance": []
    },
    "kernelspec": {
      "display_name": "Python 3",
      "language": "python",
      "name": "python3"
    },
    "language_info": {
      "codemirror_mode": {
        "name": "ipython",
        "version": 3
      },
      "file_extension": ".py",
      "mimetype": "text/x-python",
      "name": "python",
      "nbconvert_exporter": "python",
      "pygments_lexer": "ipython3",
      "version": "3.7.0"
    }
  },
  "nbformat": 4,
  "nbformat_minor": 0
}